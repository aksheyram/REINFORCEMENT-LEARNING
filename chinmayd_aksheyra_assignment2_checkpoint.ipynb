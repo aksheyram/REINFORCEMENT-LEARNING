{
  "cells": [
    {
      "cell_type": "markdown",
      "id": "9c0d943c",
      "metadata": {
        "id": "9c0d943c"
      },
      "source": [
        "## <center>CSE 546: Reinforcement Learning</center>\n",
        "### <center>Prof. Alina Vereshchaka</center>\n",
        "<!-- ### <center>Fall 2022</center> -->\n",
        "\n",
        "Welcome to the Assignment 2, Part 1: Introduction to Deep Reinforcement Learning and Neural Networks! The goal of this assignment is to make you comfortable with the application of different Neural Network structures depending on how the Reinforcement Learning environment is set up."
      ]
    },
    {
      "cell_type": "code",
      "execution_count": 3,
      "id": "c0fc19e1",
      "metadata": {
        "id": "c0fc19e1"
      },
      "outputs": [],
      "source": [
        "# Imports \n",
        "import cv2\n",
        "import gym\n",
        "from gym import spaces\n",
        "from environment import WumpusWorldEnvironment \n",
        "import torch\n",
        "import torch.nn as nn\n",
        "import numpy as np\n",
        "import matplotlib.pyplot as plt"
      ]
    },
    {
      "cell_type": "code",
      "execution_count": 4,
      "id": "5QQ4nwxd17bj",
      "metadata": {
        "colab": {
          "base_uri": "https://localhost:8080/",
          "height": 416
        },
        "id": "5QQ4nwxd17bj",
        "outputId": "c70de6bc-f768-42d7-f9c5-702d3776dbbc"
      },
      "outputs": [
        {
          "name": "stdout",
          "output_type": "stream",
          "text": [
            "Requirement already satisfied: environment in c:\\users\\chinm\\anaconda3\\envs\\pytorch\\lib\\site-packages (1.0.0)\n",
            "Requirement already satisfied: gym in c:\\users\\chinm\\anaconda3\\envs\\pytorch\\lib\\site-packages (0.26.2)\n",
            "Requirement already satisfied: gym-notices>=0.0.4 in c:\\users\\chinm\\anaconda3\\envs\\pytorch\\lib\\site-packages (from gym) (0.0.8)\n",
            "Requirement already satisfied: numpy>=1.18.0 in c:\\users\\chinm\\anaconda3\\envs\\pytorch\\lib\\site-packages (from gym) (1.22.3)\n",
            "Requirement already satisfied: cloudpickle>=1.2.0 in c:\\users\\chinm\\anaconda3\\envs\\pytorch\\lib\\site-packages (from gym) (2.2.0)\n"
          ]
        }
      ],
      "source": [
        "!pip install environment\n",
        "!pip install gym"
      ]
    },
    {
      "cell_type": "markdown",
      "id": "87890afd",
      "metadata": {
        "id": "87890afd"
      },
      "source": [
        "# Environment"
      ]
    },
    {
      "cell_type": "markdown",
      "id": "b9dc8362",
      "metadata": {
        "id": "b9dc8362"
      },
      "source": [
        "We will be working with an implementation of the Wumpus World environment. The environment comes from the book \"Artificial Intelligence: A Modern Approach\" by Stuart J. Russell and Peter Norvig. \n",
        "\n",
        "### ENVIRONMENT DETAILS:\n",
        "\n",
        "The environment is a 6 x 6 grid world containing a total of 36 grid blocks. \n",
        "\n",
        "#### ENVIRONMENT OBJECTS:\n",
        "The environment consists of the following objects:\n",
        "\n",
        "1. **Agent** - The agent starts in the grid block at the bottom left corner whose co-ordinates are [0, 0]. The goal of our agent is to collect the Gold while avoiding the Wumpus and the pits. \n",
        "\n",
        "2. **Wumpus** - The monster which would eat the agent if they are in the same grid block.\n",
        "\n",
        "3. **Pit** - The agent must avoid falling into the pits. \n",
        "\n",
        "4. **Gold** - The agent must collect the Gold.\n",
        "\n",
        "5. **Breeze** - Breeze surrounds the Pits and warn the agent of a Pit in an adjacent grid block.\n",
        "\n",
        "6. **Stench** - Stench surrounds the Wumpus and warns the agent of the Wumpus in an adjacent grid block.\n",
        "\n",
        "#### ENVIRONMENT OBSERVATIONS:\n",
        "\n",
        "Our implementation of the environment provides you with four different types of observations:\n",
        "\n",
        "1. **Integer** - Integer in the range [0 - 35]. This represents the grid block the agent is in. E.g., if the agent is in the bottom left grid block (starting position) the observation would be 0, if the agent is in the grid block containing the Gold the observation would be 34, if the agent is in the top right grid block the observation would be 35.\n",
        "\n",
        "2. **Vector** - \n",
        "\n",
        "    **2.1.** A vector of length 2 representing the agent co-ordinates. The first entry represents the x co-ordinate and the second entry represets the y co-ordinate. E.g., if the agent is in the bottom left grid block (starting position) the observation would be [0, 0], if the agent is in the grid block containing the Gold the observation would be [4, 5], if the agent is in the top right grid block the observation would be [5, 5].\n",
        "    \n",
        "    **2.2.** A vector of length 36 representing the one-hot encoding of the integer observation (refer type 1 above). E.g., if the agent is in the bottom left grid block (starting position) the observation would be [1, 0, ..., 0, 0], if the agent is in the grid block containing the Gold the observation would be [0, 0, ..., 1, 0], if the agent is in the top right grid block the observation would be [0, 0, ..., 0, 1].\n",
        "\n",
        "\n",
        "3. **Image** - Image render of the environment returned as an NumPy array. The image size is 84 * 84 (same size used in the DQN paper). E.g., if the agent is in the bottom right grid block the observation is:\n",
        "\n",
        "    Observation: (84 * 84)\n",
        "\n",
        "     [[255 255 255 ... 255 255 255]\n",
        "\n",
        "     [255 255 255 ... 255 255 255]\n",
        "\n",
        "     [255 255 255 ... 255 255 255]\n",
        "\n",
        "     ...\n",
        "\n",
        "     [255 255 255 ... 255 255 255]\n",
        "\n",
        "     [255 255 255 ... 255 255 255]\n",
        "\n",
        "     [255 255 255 ... 255 255 255]]\n",
        "\n",
        "    Observation type: <class 'numpy.ndarray'>\n",
        "\n",
        "    Observation Shape: (84, 84)\n",
        "\n",
        "    Visually, it looks like:\n",
        "    <img src=\"./images/environment_render.png\" width=\"500\" height=\"500\">\n",
        "    \n",
        "\n",
        "4. **Float** - Float in the range [0 - $\\infty$] representing the time elapsed in seconds. \n",
        "\n",
        "#### ENVIRONMENT ACTIONS:\n",
        "\n",
        "Our implementation of the environment provides you with three different types of actions:\n",
        "\n",
        "1. **Discrete** - Integer in the range [0 - 3] representing the four actions possible in the environment as follows: 0 - Right 1 - Left 2 - Up 3 - Down.\n",
        "\n",
        "2. **Multi-Discrete** - Array of length four where each element takes binary values 0 or 1. Array elements represent if we take a particular action. Array element with index 0 corresponds to the right action, index 1 corresponds to the left action, index 2 corresponds to the up action, and index 3 corresponds to the down action. E.g., \n",
        "   action = [1, 0, 0, 0] would result in the agent moving right.\n",
        "   action = [1, 0, 1, 0] would result in the agent moving right and up.\n",
        "   action = [0, 1, 0, 1] would result in the agent moving left and down.\n",
        "\n",
        "3. **Continuous** - Float in the range [-1, 1] determining whether the agent will go left, right, up, or down as follows:\n",
        "\n",
        "    if -1 <= action <= -0.5:\n",
        "        Go Right.\n",
        "    elif -0.5 < action <= 0:\n",
        "        Go Left.\n",
        "    elif 0 < action <= 0.5:\n",
        "        Go Up.\n",
        "    elif 0.5 < action <= 1:\n",
        "        Go Down.\n",
        "        \n",
        "### YOUR TASK IS TO USE A NEURAL NETWORK TO WORK WITH ALL FOUR TYPES OF OBSERVATIONS AND ALL THREE TYPES OF  ACTIONS."
      ]
    },
    {
      "cell_type": "markdown",
      "id": "a6deebbb",
      "metadata": {
        "id": "a6deebbb"
      },
      "source": [
        "<img src=\"./images/wumpus_world_environment.jpg\" width=\"600\" height=\"600\">"
      ]
    },
    {
      "cell_type": "markdown",
      "id": "f2f11e24",
      "metadata": {
        "id": "f2f11e24"
      },
      "source": [
        "# START COMPLETING YOUR ASSIGNMENT HERE"
      ]
    },
    {
      "cell_type": "markdown",
      "id": "729a8768",
      "metadata": {
        "id": "729a8768"
      },
      "source": [
        "## Observation Type - Integer, Action Type - Discrete\n",
        "\n",
        "The part of the assignment requires you to create a sequential dense neural network with 1 hidden layer having 64 neurons and the output layer having 4 neurons. The input to the neural network is an integer (refer to environment observations type 1). The output of the neural network is an array represeting the Q-values from which you will choose an action (refer to environment actions type 1)."
      ]
    },
    {
      "cell_type": "markdown",
      "id": "c596cb95",
      "metadata": {
        "id": "c596cb95"
      },
      "source": [
        "The following figure shows the network structure you will have to use:\n",
        "\n",
        "<img src=\"./images/neural_network_structures/neural_network_1_64_4.png\">"
      ]
    },
    {
      "cell_type": "code",
      "execution_count": 12,
      "id": "7b1f4da4",
      "metadata": {
        "colab": {
          "base_uri": "https://localhost:8080/"
        },
        "id": "7b1f4da4",
        "outputId": "739efbac-56b7-4b97-a46a-3f69d7dcdfc9"
      },
      "outputs": [
        {
          "name": "stdout",
          "output_type": "stream",
          "text": [
            "0\n",
            "tensor([0.1511, 0.0388, 0.1365, 0.0206], grad_fn=<AddBackward0>)\n"
          ]
        }
      ],
      "source": [
        "\"\"\"TO DO: Create a neural network, pass it the observation from the environment\n",
        "and get the predicted Q-values for the four actions. Print the observation and the Q-values.\"\"\"\n",
        "\n",
        "environment = WumpusWorldEnvironment(observation_type='integer', action_type='discrete')\n",
        "obs = environment.reset()\n",
        "print(obs)\n",
        "\n",
        "# BEGIN_YOUR_CODE\n",
        "class NeuralNetwork1(nn.Module):\n",
        "    def __init__(self) -> None:\n",
        "        super(NeuralNetwork1 , self).__init__()\n",
        "        self.fc1 = nn.Linear(in_features= 1, out_features= 64)\n",
        "        self.relu = nn.ReLU()\n",
        "        self.fc2 = nn.Linear(in_features= 64 , out_features= 4)\n",
        "\n",
        "    def forward(self, x):\n",
        "        x = self.fc1(x)\n",
        "        x = self.relu(x)\n",
        "        x = self.fc2(x)\n",
        "        return x\n",
        "\n",
        "environment = WumpusWorldEnvironment(observation_type='integer', action_type='discrete')\n",
        "observation = environment.reset()\n",
        "random_action = np.random.randint(3)\n",
        "observation , reward, done , info = environment.step(random_action)\n",
        "model = NeuralNetwork1()\n",
        "output = model(torch.Tensor([observation]))\n",
        "print(output)\n",
        "# END_YOUR_CODE"
      ]
    },
    {
      "cell_type": "markdown",
      "id": "2bb8286a",
      "metadata": {
        "id": "2bb8286a"
      },
      "source": []
    },
    {
      "cell_type": "markdown",
      "id": "b2b233bb",
      "metadata": {
        "id": "b2b233bb"
      },
      "source": [
        "## Observation Type - Vector (2.1), Action Type - Discrete\n",
        "\n",
        "The part of the assignment requires you to create a sequential dense neural network with 1 hidden layer having 64 neurons and the output layer having 4 neurons. The input to the neural network is a vector of length 2 (refer to environment observations type 2.1). The output of the neural network is an array represeting the Q-values from which you will choose an action (refer to environment actions type 1)."
      ]
    },
    {
      "cell_type": "markdown",
      "id": "0e9c4873",
      "metadata": {
        "id": "0e9c4873"
      },
      "source": [
        "The following figure shows the network structure you will have to use:\n",
        "\n",
        "<img src=\"./images/neural_network_structures/neural_network_2_64_4.png\">"
      ]
    },
    {
      "cell_type": "code",
      "execution_count": 6,
      "id": "10d985b5",
      "metadata": {
        "colab": {
          "base_uri": "https://localhost:8080/"
        },
        "id": "10d985b5",
        "outputId": "2251740b-0cca-407e-a974-35a8b2a4c185"
      },
      "outputs": [
        {
          "name": "stdout",
          "output_type": "stream",
          "text": [
            "tensor([[ 0.2368,  0.1204,  0.0432, -0.3857]], grad_fn=<AddmmBackward0>)\n"
          ]
        },
        {
          "name": "stderr",
          "output_type": "stream",
          "text": [
            "C:\\Users\\chinm\\AppData\\Local\\Temp\\ipykernel_14592\\2554662940.py:25: UserWarning: Creating a tensor from a list of numpy.ndarrays is extremely slow. Please consider converting the list to a single numpy.ndarray with numpy.array() before converting to a tensor. (Triggered internally at  C:\\cb\\pytorch_1000000000000\\work\\torch\\csrc\\utils\\tensor_new.cpp:204.)\n",
            "  output = model(torch.Tensor([observation]))\n"
          ]
        }
      ],
      "source": [
        "\"\"\"TO DO: Create a neural network, pass it the observation from the environment\n",
        "and get the predicted Q-values for the four actions. Print the observation and the Q-values.\"\"\"\n",
        "\n",
        "environment = WumpusWorldEnvironment(observation_type='vector', action_type='discrete')\n",
        "observation = environment.reset()\n",
        "# BEGIN_YOUR_CODE\n",
        "class NeuralNetwork2(nn.Module):\n",
        "    def __init__(self) -> None:\n",
        "        super(NeuralNetwork2 , self).__init__()\n",
        "        self.fc1 = nn.Linear(in_features= 2, out_features= 64)\n",
        "        self.relu = nn.ReLU()\n",
        "        self.fc2 = nn.Linear(in_features= 64 , out_features= 4)\n",
        "\n",
        "    def forward(self, x):\n",
        "        x = self.fc1(x)\n",
        "        x = self.relu(x)\n",
        "        x = self.fc2(x)\n",
        "        return x\n",
        "\n",
        "environment = WumpusWorldEnvironment(observation_type='vector', action_type='discrete')\n",
        "observation = environment.reset()\n",
        "random_action = np.random.randint(3)\n",
        "observation , reward, done , info = environment.step(random_action)\n",
        "model = NeuralNetwork2()\n",
        "output = model(torch.Tensor([observation]))\n",
        "print(output)\n",
        "# END_YOUR_CODE"
      ]
    },
    {
      "cell_type": "markdown",
      "id": "a8957b9f",
      "metadata": {
        "id": "a8957b9f"
      },
      "source": [
        "## Observation Type - Vector (2.2), Action Type - Discrete\n",
        "\n",
        "The part of the assignment requires you to create a sequential dense neural network with 1 hidden layer having 64 neurons and the output layer having 4 neurons. The input to the neural network is a vector of length 36 (refer to environment observations type 2.2). The output of the neural network is an array represeting the Q-values from which you will choose an action (refer to environment actions type 1).\n",
        "\n",
        "**HINT:** Use the integer observation and convert it to a one-hot encoded vector."
      ]
    },
    {
      "cell_type": "markdown",
      "id": "470cf5f8",
      "metadata": {
        "id": "470cf5f8"
      },
      "source": [
        "The following figure shows the network structure you will have to use:\n",
        "\n",
        "<img src=\"./images/neural_network_structures/neural_network_36_64_4.png\">"
      ]
    },
    {
      "cell_type": "code",
      "execution_count": 9,
      "id": "ae05b09e",
      "metadata": {
        "colab": {
          "base_uri": "https://localhost:8080/",
          "height": 236
        },
        "id": "ae05b09e",
        "outputId": "8356d40d-86e8-48f1-df67-636668d862b1"
      },
      "outputs": [
        {
          "name": "stdout",
          "output_type": "stream",
          "text": [
            "tensor([[0.5273, 0.4619, 0.5220, 0.5419]], grad_fn=<SigmoidBackward0>)\n"
          ]
        }
      ],
      "source": [
        "\"\"\"TO DO: Create a neural network, pass it the observation from the environment\n",
        "and get the predicted Q-values for the four actions. Print the observation and the Q-values.\"\"\"\n",
        "\n",
        "environment = WumpusWorldEnvironment(observation_type='integer', action_type='discrete')\n",
        "observation = environment.reset()\n",
        "\n",
        "# BEGIN_YOUR_CODE\n",
        "class NeuralNetwork3(nn.Module):\n",
        "    def __init__(self) -> None:\n",
        "        super(NeuralNetwork3 , self).__init__()\n",
        "        self.fc1 = nn.Linear(in_features= 36, out_features= 64)\n",
        "        self.relu = nn.ReLU()\n",
        "        self.fc2 = nn.Linear(in_features= 64 , out_features= 4)\n",
        "        self.sigmoid = nn.Sigmoid()\n",
        "\n",
        "    def forward(self, x):\n",
        "        x = self.fc1(x)\n",
        "        x = self.relu(x)\n",
        "        x = self.fc2(x)\n",
        "        x = self.sigmoid(x)\n",
        "        return x\n",
        "\n",
        "environment = WumpusWorldEnvironment(observation_type='integer', action_type='discrete')\n",
        "observation = environment.reset()\n",
        "random_action = np.random.randint(3)\n",
        "observation = torch.Tensor([observation]).to(torch.int64)\n",
        "observation = nn.functional.one_hot(observation,36).to(torch.float)\n",
        "model = NeuralNetwork3()\n",
        "output = model(observation)\n",
        "print(output)\n",
        "# END_YOUR_CODE"
      ]
    },
    {
      "cell_type": "markdown",
      "id": "ce19c97b",
      "metadata": {
        "id": "ce19c97b"
      },
      "source": [
        "## Observation Type - Image, Action Type - Discrete\n",
        "\n",
        "The part of the assignment requires you to create a convolutional neural network with one convolutional layer having 128 filters of size 3 x 3, one hidden layer having 64 neurons, and the output layer having 4 neurons. The input to the neural network is an image of size 84 * 84 (refer to environment observations type 3). The output of the neural network is an array represeting the Q-values from which you will choose an action (refer to environment actions type 1)."
      ]
    },
    {
      "cell_type": "markdown",
      "id": "df3d739c",
      "metadata": {
        "id": "df3d739c"
      },
      "source": [
        "The following figure shows the network structure you will have to use:\n",
        "\n",
        "<img src=\"./images/neural_network_structures/convolutional_neural_network_84x84_128_64_4.png\">"
      ]
    },
    {
      "cell_type": "code",
      "execution_count": 11,
      "id": "2044da09",
      "metadata": {
        "id": "2044da09",
        "outputId": "4635d5df-9f44-4c29-aebf-f6092d9ebcd4"
      },
      "outputs": [
        {
          "name": "stdout",
          "output_type": "stream",
          "text": [
            "tensor([ 0.1151, -0.0942, -0.0446, -0.0693], grad_fn=<AddBackward0>)\n"
          ]
        }
      ],
      "source": [
        "\"\"\"TO DO: Create a neural network, pass it the observation from the environment\n",
        "and get the predicted Q-values for the four actions. Print the observation and the Q-values.\"\"\"\n",
        "# BEGIN_YOUR_CODE\n",
        "class ConvolutionNeuralNetwork(nn.Module):\n",
        "    def __init__(self) -> None:\n",
        "        super(ConvolutionNeuralNetwork , self).__init__()\n",
        "        self.conv1 = nn.Conv2d(1,128,kernel_size=3)\n",
        "        self.relu = nn.ReLU()\n",
        "    def forward(self, x):\n",
        "        x = self.conv1(x)\n",
        "        x = self.relu(x)\n",
        "        x = x.flatten()\n",
        "        self.nn1 = nn.Linear(in_features= x.shape[0] , out_features= 64)\n",
        "        x = self.nn1(x)\n",
        "        self.nn2 = nn.Linear(in_features=64 , out_features=4)\n",
        "        x = self.nn2(x)\n",
        "        return x\n",
        "\n",
        "environment = WumpusWorldEnvironment(observation_type='image', action_type='discrete')\n",
        "observation = environment.reset()\n",
        "model = ConvolutionNeuralNetwork()\n",
        "random_action = np.random.randint(3)\n",
        "observation ,reward , done , info  = environment.step(random_action)\n",
        "observation = torch.from_numpy(observation)\n",
        "observation = observation / 255\n",
        "observation = observation.unsqueeze(0)\n",
        "\n",
        "output = model(observation)\n",
        "print(output)\n",
        "# END_YOUR_CODE"
      ]
    },
    {
      "cell_type": "markdown",
      "id": "64be04fd",
      "metadata": {
        "id": "64be04fd"
      },
      "source": [
        "## Observation Type - Float, Action Type - Discrete\n",
        "\n",
        "The part of the assignment requires you to create a sequential dense neural network with 1 hidden layer having 256 neurons and the output layer having 4 neurons. The input to the neural network is a float (refer to environment observations type 4). The output of the neural network is an array represeting the Q-values from which you will choose an action (refer to environment actions type 1)."
      ]
    },
    {
      "cell_type": "markdown",
      "id": "b7ed49e0",
      "metadata": {
        "id": "b7ed49e0"
      },
      "source": [
        "The following figure shows the network structure you will have to use:\n",
        "\n",
        "<img src=\"./images/neural_network_structures/neural_network_1_64_4.png\">"
      ]
    },
    {
      "cell_type": "code",
      "execution_count": 10,
      "id": "ea0e4aa6",
      "metadata": {
        "colab": {
          "base_uri": "https://localhost:8080/"
        },
        "id": "ea0e4aa6",
        "outputId": "3f7b2867-7ef5-4f8a-ca32-be164ac25543"
      },
      "outputs": [
        {
          "name": "stdout",
          "output_type": "stream",
          "text": [
            "tensor([ 0.1359, -0.1016, -0.0160,  0.2514], grad_fn=<AddBackward0>)\n"
          ]
        }
      ],
      "source": [
        "\"\"\"TO DO: Create a neural network, pass it the observation from the environment\n",
        "and get the predicted Q-values for the four actions. Print the observation and the Q-values.\"\"\"\n",
        "\n",
        "# BEGIN_YOUR_CODE\n",
        "class NeuralNetwork(nn.Module):\n",
        "    def __init__(self) -> None:\n",
        "        super(NeuralNetwork , self).__init__()\n",
        "        self.fc1 = nn.Linear(in_features= 1, out_features= 256)\n",
        "        self.relu = nn.ReLU()\n",
        "        self.fc2 = nn.Linear(in_features= 256 , out_features= 4)\n",
        "\n",
        "    def forward(self, x):\n",
        "        x = self.fc1(x)\n",
        "        x = self.relu(x)\n",
        "        x = self.fc2(x)\n",
        "        return x\n",
        "\n",
        "environment = WumpusWorldEnvironment(observation_type='float', action_type='discrete')\n",
        "observation = environment.reset()\n",
        "random_action = np.random.randint(3)\n",
        "observation , reward, done , info = environment.step(random_action)\n",
        "model = NeuralNetwork()\n",
        "output = model(torch.Tensor([observation]))\n",
        "print(output)\n",
        "\n",
        "# END_YOUR_CODE"
      ]
    },
    {
      "cell_type": "markdown",
      "id": "27040465",
      "metadata": {
        "id": "27040465"
      },
      "source": [
        "## Observation Type - Vector (2.2), Action Type - Multi-Discrete\n",
        "\n",
        "The part of the assignment requires you to create a sequential dense neural network with 1 hidden layer having 64 neurons and the output layer having 4 neurons. The input to the neural network is a vector of length 36 (refer to environment observations type 2.2). The output of the neural network is an array representing the probability of choosing the actions. (If the value of the array element is >=0.5 you will perform the action.) (refer to environment actions type 2).\n",
        "\n",
        "**HINT:** Use the integer observation and convert it to a one-hot encoded vector."
      ]
    },
    {
      "cell_type": "markdown",
      "id": "8fe64de9",
      "metadata": {
        "id": "8fe64de9"
      },
      "source": [
        "The following figure shows the network structure you will have to use:\n",
        "\n",
        "<img src=\"./images/neural_network_structures/neural_network_36_64_4_sigmoid.png\">"
      ]
    },
    {
      "cell_type": "code",
      "execution_count": null,
      "id": "00ea3736",
      "metadata": {
        "colab": {
          "base_uri": "https://localhost:8080/"
        },
        "id": "00ea3736",
        "outputId": "649bf0ab-b061-4f18-d44b-e4d7c3a9dc55"
      },
      "outputs": [
        {
          "name": "stdout",
          "output_type": "stream",
          "text": [
            "tensor([[0.4719, 0.4788, 0.4764, 0.5164]], grad_fn=<SigmoidBackward0>)\n"
          ]
        }
      ],
      "source": [
        "\"\"\"TO DO: Create a neural network, pass it the observation from the environment\n",
        "and get the predicted action probabilities for the four actions. Print the observation and the action probabilities.\"\"\"\n",
        "\n",
        "\n",
        "# BEGIN_YOUR_CODE\n",
        "\n",
        "class NeuralNetwork(nn.Module):\n",
        "    def __init__(self) -> None:\n",
        "        super(NeuralNetwork , self).__init__()\n",
        "        self.fc1 = nn.Linear(in_features= 36, out_features= 64)\n",
        "        self.relu = nn.ReLU()\n",
        "        self.fc2 = nn.Linear(in_features= 64 , out_features= 4)\n",
        "        self.sigmoid = nn.Sigmoid()\n",
        "\n",
        "    def forward(self, x):\n",
        "        x = self.fc1(x)\n",
        "        x = self.relu(x)\n",
        "        x = self.fc2(x)\n",
        "        x = self.sigmoid(x)\n",
        "        return x\n",
        "environment = WumpusWorldEnvironment(observation_type='integer', action_type='multi_discrete')\n",
        "observation = environment.reset()\n",
        "observation = torch.Tensor([observation]).to(torch.int64)\n",
        "observation = nn.functional.one_hot(observation,36).to(torch.float)\n",
        "model = NeuralNetwork()\n",
        "output = model(observation)\n",
        "print(output)\n",
        "# END_YOUR_CODE"
      ]
    },
    {
      "cell_type": "markdown",
      "id": "082f05b0",
      "metadata": {
        "id": "082f05b0"
      },
      "source": [
        "## Observation Type - Vector (2.2), Action Type - Continuous\n",
        "\n",
        "The part of the assignment requires you to create a sequential dense neural network with 1 hidden layer having 64 neurons and the output layer having 1 neuron. The input to the neural network is a vector of length 36 (refer to environment observations type 2.2). The output of the neural network is an float in the range [-1, 1] determining the action which will be taken. (refer to environment actions type 3).\n",
        "\n",
        "**HINT:** Use the integer observation and convert it to a one-hot encoded vector and use the TanH activation function to get the output in the range [-1, 1]."
      ]
    },
    {
      "cell_type": "markdown",
      "id": "d8796988",
      "metadata": {
        "id": "d8796988"
      },
      "source": [
        "The following figure shows the network structure you will have to use:\n",
        "\n",
        "<img src=\"./images/neural_network_structures/neural_network_36_64_1.png\">"
      ]
    },
    {
      "cell_type": "code",
      "execution_count": null,
      "id": "b98555f1",
      "metadata": {
        "id": "b98555f1",
        "outputId": "42ec8712-1ee6-4165-c46b-afe7367dfcf3"
      },
      "outputs": [
        {
          "name": "stdout",
          "output_type": "stream",
          "text": [
            "tensor([[-0.0326]], grad_fn=<AddmmBackward0>)\n"
          ]
        }
      ],
      "source": [
        "\"\"\"TO DO: Create a neural network, pass it the observation from the environment\n",
        "and get the predicted action. Print the observation and the predicted action.\"\"\"\n",
        "\n",
        "# BEGIN_YOUR_CODE\n",
        "class NeuralNetwork(nn.Module):\n",
        "    def __init__(self) -> None:\n",
        "        super(NeuralNetwork , self).__init__()\n",
        "        self.fc1 = nn.Linear(in_features= 36, out_features= 64)\n",
        "        self.relu = nn.ReLU()\n",
        "        self.fc2 = nn.Linear(in_features= 64 , out_features= 1)\n",
        "        self.tanh = nn.Tanh()\n",
        "\n",
        "    def forward(self, x):\n",
        "        x = self.fc1(x)\n",
        "        x = self.relu(x)\n",
        "        x = self.fc2(x)\n",
        "        \n",
        "        return x\n",
        "environment = WumpusWorldEnvironment(observation_type='integer', action_type='multi_discrete')\n",
        "observation = environment.reset()\n",
        "observation = torch.Tensor([observation]).to(torch.int64)\n",
        "observation = nn.functional.one_hot(observation,36).to(torch.float)\n",
        "model = NeuralNetwork()\n",
        "output = model(observation)\n",
        "print(output)\n",
        "\n",
        "# END_YOUR_CODE"
      ]
    }
  ],
  "metadata": {
    "colab": {
      "provenance": []
    },
    "kernelspec": {
      "display_name": "Python 3.10.4 ('pytorch')",
      "language": "python",
      "name": "python3"
    },
    "language_info": {
      "codemirror_mode": {
        "name": "ipython",
        "version": 3
      },
      "file_extension": ".py",
      "mimetype": "text/x-python",
      "name": "python",
      "nbconvert_exporter": "python",
      "pygments_lexer": "ipython3",
      "version": "3.10.4"
    },
    "vscode": {
      "interpreter": {
        "hash": "5ba1aea00085fcf9477236538efe0cd8e2de1f07aa20f35434921a054985b396"
      }
    }
  },
  "nbformat": 4,
  "nbformat_minor": 5
}
