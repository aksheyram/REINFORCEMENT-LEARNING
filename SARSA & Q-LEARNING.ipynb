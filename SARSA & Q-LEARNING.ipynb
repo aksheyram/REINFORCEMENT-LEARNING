{
  "nbformat": 4,
  "nbformat_minor": 0,
  "metadata": {
    "colab": {
      "provenance": [],
      "collapsed_sections": [
        "GMpZUpons8go"
      ]
    },
    "kernelspec": {
      "name": "python3",
      "display_name": "Python 3"
    },
    "language_info": {
      "name": "python"
    },
    "accelerator": "GPU"
  },
  "cells": [
    {
      "cell_type": "code",
      "execution_count": null,
      "metadata": {
        "id": "pq3kH-VmiFrT"
      },
      "outputs": [],
      "source": [
        " '''\n",
        " Academic Integrity Statement\n",
        " \"I (We) certify that the code and data in this assignment were generated independently,\n",
        " using only the tools and resources defined in the course and that I (we) did not receive\n",
        " any external help, coaching or contributions during the production of this work.\"\n",
        "'''"
      ]
    },
    {
      "cell_type": "code",
      "source": [
        "import numpy as np\n",
        "import matplotlib.pyplot as plt\n",
        "import gym\n",
        "from gym import spaces\n",
        "from matplotlib.pyplot import imshow, show\n",
        "import random"
      ],
      "metadata": {
        "id": "gt7Bxm-PiPf8"
      },
      "execution_count": 2,
      "outputs": []
    },
    {
      "cell_type": "code",
      "source": [
        "! pip install gym"
      ],
      "metadata": {
        "colab": {
          "base_uri": "https://localhost:8080/"
        },
        "id": "15CODumfiPh_",
        "outputId": "b3bd8ee4-8065-4bcd-eaea-6786ea8fdf03"
      },
      "execution_count": 3,
      "outputs": [
        {
          "output_type": "stream",
          "name": "stdout",
          "text": [
            "Looking in indexes: https://pypi.org/simple, https://us-python.pkg.dev/colab-wheels/public/simple/\n",
            "Requirement already satisfied: gym in /usr/local/lib/python3.7/dist-packages (0.25.2)\n",
            "Requirement already satisfied: numpy>=1.18.0 in /usr/local/lib/python3.7/dist-packages (from gym) (1.21.6)\n",
            "Requirement already satisfied: cloudpickle>=1.2.0 in /usr/local/lib/python3.7/dist-packages (from gym) (1.5.0)\n",
            "Requirement already satisfied: gym-notices>=0.0.4 in /usr/local/lib/python3.7/dist-packages (from gym) (0.0.8)\n",
            "Requirement already satisfied: importlib-metadata>=4.8.0 in /usr/local/lib/python3.7/dist-packages (from gym) (4.12.0)\n",
            "Requirement already satisfied: zipp>=0.5 in /usr/local/lib/python3.7/dist-packages (from importlib-metadata>=4.8.0->gym) (3.8.1)\n",
            "Requirement already satisfied: typing-extensions>=3.6.4 in /usr/local/lib/python3.7/dist-packages (from importlib-metadata>=4.8.0->gym) (4.1.1)\n"
          ]
        }
      ]
    },
    {
      "cell_type": "code",
      "source": [
        "grid = np.zeros((5, 5))\n",
        "print(grid)"
      ],
      "metadata": {
        "colab": {
          "base_uri": "https://localhost:8080/"
        },
        "id": "RyfQmosmiPkX",
        "outputId": "ef7471eb-011a-4ab2-c083-01357d3b30aa"
      },
      "execution_count": 4,
      "outputs": [
        {
          "output_type": "stream",
          "name": "stdout",
          "text": [
            "[[0. 0. 0. 0. 0.]\n",
            " [0. 0. 0. 0. 0.]\n",
            " [0. 0. 0. 0. 0.]\n",
            " [0. 0. 0. 0. 0.]\n",
            " [0. 0. 0. 0. 0.]]\n"
          ]
        }
      ]
    },
    {
      "cell_type": "code",
      "source": [
        "pos1 = [0, 0]\n",
        "pos2 = [4, 4]\n",
        "grid[tuple(pos1)] = 1\n",
        "grid[tuple(pos2)] = 0.5\n",
        "plt.imshow(grid)"
      ],
      "metadata": {
        "colab": {
          "base_uri": "https://localhost:8080/",
          "height": 282
        },
        "id": "yNlppZoHiPmd",
        "outputId": "592c0d42-8686-40ce-dd8e-bfc46b698d2e"
      },
      "execution_count": 7,
      "outputs": [
        {
          "output_type": "execute_result",
          "data": {
            "text/plain": [
              "<matplotlib.image.AxesImage at 0x7f45d30a3490>"
            ]
          },
          "metadata": {},
          "execution_count": 7
        },
        {
          "output_type": "display_data",
          "data": {
            "text/plain": [
              "<Figure size 432x288 with 1 Axes>"
            ],
            "image/png": "[encoded data removed]"
          },
          "metadata": {
            "needs_background": "light"
          }
        }
      ]
    },
    {
      "cell_type": "markdown",
      "source": [
        "# **DETERMINISTIC ENVIRONMENT**"
      ],
      "metadata": {
        "id": "K6T4XAO3jFM9"
      }
    },
    {
      "cell_type": "code",
      "source": [
        "class GridEnvironment(gym.Env):\n",
        "    \n",
        "    def __init__(self):\n",
        "        self.observation_space = spaces.Discrete(9)\n",
        "        self.action_space = spaces.Discrete(4)\n",
        "        self.max_timesteps = 5\n",
        "        \n",
        "    def reset(self):\n",
        "        self.timestep = 0\n",
        "        self.agent_pos = [0, 0]\n",
        "        self.goal_pos = [4, 4]\n",
        "        self.state = np.zeros((5, 5))\n",
        "        self.state[tuple(self.agent_pos)] = 1\n",
        "        self.state[tuple(self.goal_pos)] = 0.5\n",
        "        observation = self.state.flatten()\n",
        "        \n",
        "        return observation\n",
        "    \n",
        "    def step(self, action):\n",
        "        self.state = np.random.choice(self.observation_space.n)\n",
        "        if action == 0:\n",
        "            self.agent_pos[0] += 1\n",
        "        if action == 1:\n",
        "          self.agent_pos[0] -= 1\n",
        "        if action == 2:\n",
        "          self.agent_pos[1] += 1\n",
        "        if action == 3:\n",
        "          self.agent_pos[1] -= 1\n",
        "        self.agent_pos = np.clip(self.agent_pos, 0, 4)\n",
        "        self.state = np.zeros((5,5))\n",
        "        self.state[tuple(self.agent_pos)] = 1\n",
        "        if not (tuple(self.agent_pos) == tuple(self.goal_pos)):\n",
        "            self.state[tuple(self.goal_pos)] = 0.5\n",
        "        observation = self.state.flatten()\n",
        "        \n",
        "        reward = 0\n",
        "        if (self.agent_pos == self.goal_pos).all():\n",
        "            reward = 10\n",
        "        elif (self.agent_pos == (2,1)).all():\n",
        "            reward = 5\n",
        "        elif (self.agent_pos == (1,3)).all():\n",
        "            reward = 2\n",
        "        elif (self.agent_pos == (3,2)).all():\n",
        "            reward = -2\n",
        "        elif (self.agent_pos == (0,3)).all():\n",
        "            reward = -5\n",
        "        elif (self.agent_pos == (4,0)).all():\n",
        "            reward = 8\n",
        "            \n",
        "        self.timestep += 1\n",
        "        done = True if self.timestep >= self.max_timesteps else False\n",
        "        \n",
        "        info = {}\n",
        "        \n",
        "        return observation, reward, done, info,self.agent_pos,self.state\n",
        "    \n",
        "    def render(self):\n",
        "        plt.imshow(self.state)"
      ],
      "metadata": {
        "id": "_R3OpRO4iPoy"
      },
      "execution_count": 8,
      "outputs": []
    },
    {
      "cell_type": "code",
      "source": [
        "env = GridEnvironment()\n",
        "obs = env.reset()\n",
        "env.render()"
      ],
      "metadata": {
        "colab": {
          "base_uri": "https://localhost:8080/",
          "height": 265
        },
        "id": "jcAzjykXjNor",
        "outputId": "1d8089f6-e3b9-47f7-fce8-ea4e82025d3f"
      },
      "execution_count": 12,
      "outputs": [
        {
          "output_type": "display_data",
          "data": {
            "text/plain": [
              "<Figure size 432x288 with 1 Axes>"
            ],
            "image/png": "[encoded data removed]"
          },
          "metadata": {
            "needs_background": "light"
          }
        }
      ]
    },
    {
      "cell_type": "code",
      "source": [
        "#Action 0 the agent moves down\n",
        "action = 0\n",
        "observation, reward, done, _, agent_position,state = env.step(action)\n",
        "env.render()\n",
        "print('The reward for the action is: ', reward,'\\n')"
      ],
      "metadata": {
        "colab": {
          "base_uri": "https://localhost:8080/",
          "height": 300
        },
        "id": "-HWfp8oejNwN",
        "outputId": "a6e399a5-95bf-4a40-8584-e24935a3af9e"
      },
      "execution_count": 13,
      "outputs": [
        {
          "output_type": "stream",
          "name": "stdout",
          "text": [
            "The reward for the action is:  0 \n",
            "\n"
          ]
        },
        {
          "output_type": "display_data",
          "data": {
            "text/plain": [
              "<Figure size 432x288 with 1 Axes>"
            ],
            "image/png": "[encoded data removed]"
          },
          "metadata": {
            "needs_background": "light"
          }
        }
      ]
    },
    {
      "cell_type": "code",
      "source": [
        "#Action 0 the agent moves down\n",
        "action = 0\n",
        "observation, reward, done, _, agent_position,state = env.step(action)\n",
        "env.render()\n",
        "print('The reward for the action is: ', reward,'\\n')"
      ],
      "metadata": {
        "colab": {
          "base_uri": "https://localhost:8080/",
          "height": 300
        },
        "id": "s7kQBPvkjNy4",
        "outputId": "674edc8b-6741-42e8-b985-45df568afeb6"
      },
      "execution_count": 14,
      "outputs": [
        {
          "output_type": "stream",
          "name": "stdout",
          "text": [
            "The reward for the action is:  0 \n",
            "\n"
          ]
        },
        {
          "output_type": "display_data",
          "data": {
            "text/plain": [
              "<Figure size 432x288 with 1 Axes>"
            ],
            "image/png": "[encoded data removed]"
          },
          "metadata": {
            "needs_background": "light"
          }
        }
      ]
    },
    {
      "cell_type": "code",
      "source": [
        "#Action 0 the agent moves down\n",
        "action = 0\n",
        "observation, reward, done, _, agent_position,state = env.step(action)\n",
        "env.render()\n",
        "print('The reward for the action is: ', reward,'\\n')"
      ],
      "metadata": {
        "colab": {
          "base_uri": "https://localhost:8080/",
          "height": 300
        },
        "id": "-pwSqhDNjN1M",
        "outputId": "c339f829-45fd-4624-c160-e03ed00cd0e5"
      },
      "execution_count": 15,
      "outputs": [
        {
          "output_type": "stream",
          "name": "stdout",
          "text": [
            "The reward for the action is:  0 \n",
            "\n"
          ]
        },
        {
          "output_type": "display_data",
          "data": {
            "text/plain": [
              "<Figure size 432x288 with 1 Axes>"
            ],
            "image/png": "[encoded data removed]"
          },
          "metadata": {
            "needs_background": "light"
          }
        }
      ]
    },
    {
      "cell_type": "code",
      "source": [
        "#Action 0 the agent moves down\n",
        "action = 0\n",
        "observation, reward, done, _, agent_position,state = env.step(action)\n",
        "env.render()\n",
        "print('The reward for the action is: ', reward,'\\n')"
      ],
      "metadata": {
        "colab": {
          "base_uri": "https://localhost:8080/",
          "height": 300
        },
        "id": "qhuSVjPcjN3E",
        "outputId": "6160e503-24da-4104-bc8a-460099a0e297"
      },
      "execution_count": 16,
      "outputs": [
        {
          "output_type": "stream",
          "name": "stdout",
          "text": [
            "The reward for the action is:  8 \n",
            "\n"
          ]
        },
        {
          "output_type": "display_data",
          "data": {
            "text/plain": [
              "<Figure size 432x288 with 1 Axes>"
            ],
            "image/png": "[encoded data removed]"
          },
          "metadata": {
            "needs_background": "light"
          }
        }
      ]
    },
    {
      "cell_type": "code",
      "source": [
        "#Action 2 the agent moves right\n",
        "action = 2\n",
        "observation, reward, done, _, agent_position,state = env.step(action)\n",
        "env.render()\n",
        "print('The reward for the action is: ', reward,'\\n')"
      ],
      "metadata": {
        "colab": {
          "base_uri": "https://localhost:8080/",
          "height": 300
        },
        "id": "aAHfJAXsjN5M",
        "outputId": "83049863-501f-492a-c029-606b8a54c72e"
      },
      "execution_count": 17,
      "outputs": [
        {
          "output_type": "stream",
          "name": "stdout",
          "text": [
            "The reward for the action is:  0 \n",
            "\n"
          ]
        },
        {
          "output_type": "display_data",
          "data": {
            "text/plain": [
              "<Figure size 432x288 with 1 Axes>"
            ],
            "image/png": "[encoded data removed]"
          },
          "metadata": {
            "needs_background": "light"
          }
        }
      ]
    },
    {
      "cell_type": "code",
      "source": [
        "#Action 2 the agent moves right\n",
        "action = 2\n",
        "observation, reward, done, _, agent_position,state = env.step(action)\n",
        "env.render()\n",
        "print('The reward for the action is: ', reward,'\\n')"
      ],
      "metadata": {
        "colab": {
          "base_uri": "https://localhost:8080/",
          "height": 300
        },
        "id": "KzJmqQbmkTPH",
        "outputId": "bf2a4aa1-a73e-4b3e-b4c6-d4f310a097b7"
      },
      "execution_count": 18,
      "outputs": [
        {
          "output_type": "stream",
          "name": "stdout",
          "text": [
            "The reward for the action is:  0 \n",
            "\n"
          ]
        },
        {
          "output_type": "display_data",
          "data": {
            "text/plain": [
              "<Figure size 432x288 with 1 Axes>"
            ],
            "image/png": "[encoded data removed]"
          },
          "metadata": {
            "needs_background": "light"
          }
        }
      ]
    },
    {
      "cell_type": "code",
      "source": [
        "#Action 2 the agent moves right\n",
        "action = 2\n",
        "observation, reward, done, _, agent_position,state = env.step(action)\n",
        "env.render()\n",
        "print('The reward for the action is: ', reward,'\\n')"
      ],
      "metadata": {
        "colab": {
          "base_uri": "https://localhost:8080/",
          "height": 300
        },
        "id": "QmEJgEmNkTRZ",
        "outputId": "cbd68ca3-4118-401f-f67e-d8c047d31b57"
      },
      "execution_count": 19,
      "outputs": [
        {
          "output_type": "stream",
          "name": "stdout",
          "text": [
            "The reward for the action is:  0 \n",
            "\n"
          ]
        },
        {
          "output_type": "display_data",
          "data": {
            "text/plain": [
              "<Figure size 432x288 with 1 Axes>"
            ],
            "image/png": "[encoded data removed]"
          },
          "metadata": {
            "needs_background": "light"
          }
        }
      ]
    },
    {
      "cell_type": "code",
      "source": [
        "#Action 1 the agent moves up\n",
        "action = 1\n",
        "observation, reward, done, _, agent_position,state = env.step(action)\n",
        "env.render()\n",
        "print('The reward for the action is: ', reward,'\\n')"
      ],
      "metadata": {
        "colab": {
          "base_uri": "https://localhost:8080/",
          "height": 300
        },
        "id": "YA5HxaNwkTT1",
        "outputId": "8b2113a8-6c60-4f51-ea68-9cbf23505152"
      },
      "execution_count": 23,
      "outputs": [
        {
          "output_type": "stream",
          "name": "stdout",
          "text": [
            "The reward for the action is:  0 \n",
            "\n"
          ]
        },
        {
          "output_type": "display_data",
          "data": {
            "text/plain": [
              "<Figure size 432x288 with 1 Axes>"
            ],
            "image/png": "[encoded data removed]"
          },
          "metadata": {
            "needs_background": "light"
          }
        }
      ]
    },
    {
      "cell_type": "code",
      "source": [
        "#Action 2 the agent moves right\n",
        "action = 2\n",
        "observation, reward, done, _, agent_position,state = env.step(action)\n",
        "env.render()\n",
        "print('The reward for the action is: ', reward,'\\n')"
      ],
      "metadata": {
        "colab": {
          "base_uri": "https://localhost:8080/",
          "height": 300
        },
        "id": "qv9H4Amqkkzh",
        "outputId": "9cbb96e8-3bc9-4127-84b0-fbee3330609e"
      },
      "execution_count": 24,
      "outputs": [
        {
          "output_type": "stream",
          "name": "stdout",
          "text": [
            "The reward for the action is:  0 \n",
            "\n"
          ]
        },
        {
          "output_type": "display_data",
          "data": {
            "text/plain": [
              "<Figure size 432x288 with 1 Axes>"
            ],
            "image/png": "[encoded data removed]"
          },
          "metadata": {
            "needs_background": "light"
          }
        }
      ]
    },
    {
      "cell_type": "code",
      "source": [
        "#Action 0 the agent moves down\n",
        "action = 0\n",
        "observation, reward, done, _, agent_position,state = env.step(action)\n",
        "env.render()\n",
        "print('The reward for the action is: ', reward,'\\n')"
      ],
      "metadata": {
        "colab": {
          "base_uri": "https://localhost:8080/",
          "height": 300
        },
        "id": "IUicsBDQknbT",
        "outputId": "ddb7df06-34c8-4d6e-bf5e-a96fbf3fbe39"
      },
      "execution_count": 25,
      "outputs": [
        {
          "output_type": "stream",
          "name": "stdout",
          "text": [
            "The reward for the action is:  10 \n",
            "\n"
          ]
        },
        {
          "output_type": "display_data",
          "data": {
            "text/plain": [
              "<Figure size 432x288 with 1 Axes>"
            ],
            "image/png": "[encoded data removed]"
          },
          "metadata": {
            "needs_background": "light"
          }
        }
      ]
    },
    {
      "cell_type": "markdown",
      "source": [
        "# **STOCHASTIC ENVIRONMENT**"
      ],
      "metadata": {
        "id": "BMk007YqkxpV"
      }
    },
    {
      "cell_type": "code",
      "source": [
        "class GridEnvironment1(gym.Env):\n",
        "    \n",
        "    def __init__(self):\n",
        "        self.observation_space = spaces.Discrete(9)\n",
        "        self.action_space = spaces.Discrete(4)\n",
        "        self.max_timesteps = 5\n",
        "        \n",
        "    def reset1(self):\n",
        "        self.timestep = 0\n",
        "        self.agent_pos = [0, 0]\n",
        "        self.goal_pos = [4, 4]\n",
        "        self.state = np.zeros((5, 5))\n",
        "        self.state[tuple(self.agent_pos)] = 1\n",
        "        self.state[tuple(self.goal_pos)] = 0.5\n",
        "        observation = self.state.flatten()\n",
        "        \n",
        "        return observation\n",
        "    \n",
        "    def step1(self, action):\n",
        "        self.state = np.random.choice(self.observation_space.n)\n",
        "        if action == 0:\n",
        "          #The stochasticity of the environment is proven here by giving a major probability of 0.82 for the action0\n",
        "          action = np.random.choice([0,1,2,3], 1, p=[0.82, 0.06, 0.06, 0.06])\n",
        "        if action == 1:\n",
        "          action = np.random.choice([0,1,2,3], 1, p=[0.06, 0.82, 0.06, 0.06])\n",
        "        if action == 2:\n",
        "          action = np.random.choice([0,1,2,3], 1, p=[0.06, 0.06, 0.82, 0.06])\n",
        "        if action == 3:\n",
        "          action = np.random.choice([0,1,2,3], 1, p=[0.06, 0.06, 0.06, 0.82])\n",
        "        if action == 0:\n",
        "            self.agent_pos[0] += 1\n",
        "        if action == 1:\n",
        "          self.agent_pos[0] -= 1\n",
        "        if action == 2:\n",
        "          self.agent_pos[1] += 1\n",
        "        if action == 3:\n",
        "          self.agent_pos[1] -= 1\n",
        "        self.agent_pos = np.clip(self.agent_pos, 0, 4)\n",
        "        self.state = np.zeros((5,5))\n",
        "        self.state[tuple(self.agent_pos)] = 1\n",
        "        self.state[tuple(self.goal_pos)] = 0.5\n",
        "        observation = self.state.flatten()\n",
        "        \n",
        "        reward = 0\n",
        "        if (self.agent_pos == self.goal_pos).all():\n",
        "            reward = 10\n",
        "        elif (self.agent_pos == (2,1)).all():\n",
        "            reward = 5\n",
        "        elif (self.agent_pos == (1,3)).all():\n",
        "            reward = 2\n",
        "        elif (self.agent_pos == (3,2)).all():\n",
        "            reward = -2\n",
        "        elif (self.agent_pos == (0,3)).all():\n",
        "            reward = -5\n",
        "        elif (self.agent_pos == (4,0)).all():\n",
        "            reward = 8\n",
        "            \n",
        "        self.timestep += 1\n",
        "        done = True if self.timestep >= self.max_timesteps else False\n",
        "        \n",
        "        info = {}\n",
        "        \n",
        "        return observation, reward, done, info,self.agent_pos,self.state\n",
        "    \n",
        "    def render1(self):\n",
        "        plt.imshow(self.state)"
      ],
      "metadata": {
        "id": "jW7BNfGgk136"
      },
      "execution_count": 85,
      "outputs": []
    },
    {
      "cell_type": "code",
      "source": [
        "env = GridEnvironment1()\n",
        "obs = env.reset1()\n",
        "env.render1()"
      ],
      "metadata": {
        "colab": {
          "base_uri": "https://localhost:8080/",
          "height": 265
        },
        "id": "FThQHNT-lzhn",
        "outputId": "64bf5621-b3f0-4532-e292-076069817596"
      },
      "execution_count": 41,
      "outputs": [
        {
          "output_type": "display_data",
          "data": {
            "text/plain": [
              "<Figure size 432x288 with 1 Axes>"
            ],
            "image/png": "[encoded data removed]"
          },
          "metadata": {
            "needs_background": "light"
          }
        }
      ]
    },
    {
      "cell_type": "code",
      "source": [
        "#Action 2 the agent moves right\n",
        "action = 2\n",
        "observation, reward, done, _, agent_position,state = env.step1(action)\n",
        "env.render1()\n",
        "print('The reward for the action is: ', reward,'\\n')"
      ],
      "metadata": {
        "colab": {
          "base_uri": "https://localhost:8080/",
          "height": 300
        },
        "id": "Qf_Hh2QIltIg",
        "outputId": "60afc76d-d7a5-4b63-fee2-439a209bc987"
      },
      "execution_count": 42,
      "outputs": [
        {
          "output_type": "stream",
          "name": "stdout",
          "text": [
            "The reward for the action is:  0 \n",
            "\n"
          ]
        },
        {
          "output_type": "display_data",
          "data": {
            "text/plain": [
              "<Figure size 432x288 with 1 Axes>"
            ],
            "image/png": "[encoded data removed]"
          },
          "metadata": {
            "needs_background": "light"
          }
        }
      ]
    },
    {
      "cell_type": "code",
      "source": [
        "#Action 2 the agent moves right\n",
        "#The stochastocity is evident here\n",
        "#Though the action is right, the agent chose to go down\n",
        "action = 0\n",
        "observation, reward, done, _, agent_position,state = env.step1(action)\n",
        "env.render1()\n",
        "print('The reward for the action is: ', reward,'\\n')"
      ],
      "metadata": {
        "colab": {
          "base_uri": "https://localhost:8080/",
          "height": 300
        },
        "id": "QHHR1Wynl8Cu",
        "outputId": "448933d6-40d1-4581-8223-2bca884e8b5e"
      },
      "execution_count": 43,
      "outputs": [
        {
          "output_type": "stream",
          "name": "stdout",
          "text": [
            "The reward for the action is:  0 \n",
            "\n"
          ]
        },
        {
          "output_type": "display_data",
          "data": {
            "text/plain": [
              "<Figure size 432x288 with 1 Axes>"
            ],
            "image/png": "[encoded data removed]"
          },
          "metadata": {
            "needs_background": "light"
          }
        }
      ]
    },
    {
      "cell_type": "code",
      "source": [
        "#Action 2 the agent moves right\n",
        "action = 2\n",
        "observation, reward, done, _, agent_position,state = env.step1(action)\n",
        "env.render1()\n",
        "print('The reward for the action is: ', reward,'\\n')"
      ],
      "metadata": {
        "colab": {
          "base_uri": "https://localhost:8080/",
          "height": 300
        },
        "id": "lbvHNBrEl8GS",
        "outputId": "08789c47-3e42-40c1-d4eb-4c93ca5951ae"
      },
      "execution_count": 44,
      "outputs": [
        {
          "output_type": "stream",
          "name": "stdout",
          "text": [
            "The reward for the action is:  0 \n",
            "\n"
          ]
        },
        {
          "output_type": "display_data",
          "data": {
            "text/plain": [
              "<Figure size 432x288 with 1 Axes>"
            ],
            "image/png": "[encoded data removed]"
          },
          "metadata": {
            "needs_background": "light"
          }
        }
      ]
    },
    {
      "cell_type": "code",
      "source": [
        "#Action 2 the agent moves right\n",
        "action = 2\n",
        "observation, reward, done, _, agent_position,state = env.step1(action)\n",
        "env.render1()\n",
        "print('The reward for the action is: ', reward,'\\n')"
      ],
      "metadata": {
        "colab": {
          "base_uri": "https://localhost:8080/",
          "height": 300
        },
        "id": "S_tVUgZxl8Jb",
        "outputId": "8695ed5d-119f-4106-90f9-2bfba29eb951"
      },
      "execution_count": 45,
      "outputs": [
        {
          "output_type": "stream",
          "name": "stdout",
          "text": [
            "The reward for the action is:  2 \n",
            "\n"
          ]
        },
        {
          "output_type": "display_data",
          "data": {
            "text/plain": [
              "<Figure size 432x288 with 1 Axes>"
            ],
            "image/png": "[encoded data removed]"
          },
          "metadata": {
            "needs_background": "light"
          }
        }
      ]
    },
    {
      "cell_type": "code",
      "source": [
        "#Action 2 the agent moves right\n",
        "action = 2\n",
        "observation, reward, done, _, agent_position,state = env.step1(action)\n",
        "env.render1()\n",
        "print('The reward for the action is: ', reward,'\\n')"
      ],
      "metadata": {
        "colab": {
          "base_uri": "https://localhost:8080/",
          "height": 300
        },
        "id": "bruUtduZmObm",
        "outputId": "7660fd03-b853-4d43-eb14-6d0d35272e9e"
      },
      "execution_count": 46,
      "outputs": [
        {
          "output_type": "stream",
          "name": "stdout",
          "text": [
            "The reward for the action is:  0 \n",
            "\n"
          ]
        },
        {
          "output_type": "display_data",
          "data": {
            "text/plain": [
              "<Figure size 432x288 with 1 Axes>"
            ],
            "image/png": "[encoded data removed]"
          },
          "metadata": {
            "needs_background": "light"
          }
        }
      ]
    },
    {
      "cell_type": "code",
      "source": [
        "#Action 2 the agent moves right\n",
        "#The stochastocity is evident here\n",
        "#Though the action is right, the agent chose to go down\n",
        "action = 0\n",
        "observation, reward, done, _, agent_position,state = env.step1(action)\n",
        "env.render1()\n",
        "print('The reward for the action is: ', reward,'\\n')"
      ],
      "metadata": {
        "colab": {
          "base_uri": "https://localhost:8080/",
          "height": 300
        },
        "id": "vqBABGfvmOg8",
        "outputId": "2cf80867-4de8-4f6d-ff23-afaae51d592d"
      },
      "execution_count": 47,
      "outputs": [
        {
          "output_type": "stream",
          "name": "stdout",
          "text": [
            "The reward for the action is:  0 \n",
            "\n"
          ]
        },
        {
          "output_type": "display_data",
          "data": {
            "text/plain": [
              "<Figure size 432x288 with 1 Axes>"
            ],
            "image/png": "[encoded data removed]"
          },
          "metadata": {
            "needs_background": "light"
          }
        }
      ]
    },
    {
      "cell_type": "code",
      "source": [
        "#Action 0 the agent moves down\n",
        "action = 0\n",
        "observation, reward, done, _, agent_position,state = env.step1(action)\n",
        "env.render1()\n",
        "print('The reward for the action is: ', reward,'\\n')"
      ],
      "metadata": {
        "colab": {
          "base_uri": "https://localhost:8080/",
          "height": 300
        },
        "id": "O5xY5B37m5HP",
        "outputId": "9152655a-8b8c-4218-d0f0-2ca452f0dd4d"
      },
      "execution_count": 48,
      "outputs": [
        {
          "output_type": "stream",
          "name": "stdout",
          "text": [
            "The reward for the action is:  0 \n",
            "\n"
          ]
        },
        {
          "output_type": "display_data",
          "data": {
            "text/plain": [
              "<Figure size 432x288 with 1 Axes>"
            ],
            "image/png": "[encoded data removed]"
          },
          "metadata": {
            "needs_background": "light"
          }
        }
      ]
    },
    {
      "cell_type": "code",
      "source": [
        "#The stochastocity is evident here\n",
        "#Though the action is down, the agent chose to go up\n",
        "action = 0\n",
        "observation, reward, done, _, agent_position,state = env.step1(action)\n",
        "env.render1()\n",
        "print('The reward for the action is: ', reward,'\\n')"
      ],
      "metadata": {
        "colab": {
          "base_uri": "https://localhost:8080/",
          "height": 300
        },
        "id": "MpmRvSBCm7xc",
        "outputId": "f069dcb4-11da-4655-9286-332de73b78e2"
      },
      "execution_count": 49,
      "outputs": [
        {
          "output_type": "stream",
          "name": "stdout",
          "text": [
            "The reward for the action is:  0 \n",
            "\n"
          ]
        },
        {
          "output_type": "display_data",
          "data": {
            "text/plain": [
              "<Figure size 432x288 with 1 Axes>"
            ],
            "image/png": "[encoded data removed]"
          },
          "metadata": {
            "needs_background": "light"
          }
        }
      ]
    },
    {
      "cell_type": "code",
      "source": [
        "action = 0\n",
        "observation, reward, done, _, agent_position,state = env.step1(action)\n",
        "env.render1()\n",
        "print('The reward for the action is: ', reward,'\\n')"
      ],
      "metadata": {
        "colab": {
          "base_uri": "https://localhost:8080/",
          "height": 300
        },
        "id": "zjdy_ApAnEV0",
        "outputId": "a8511c93-bd58-467b-ee08-75e250dd895a"
      },
      "execution_count": 50,
      "outputs": [
        {
          "output_type": "stream",
          "name": "stdout",
          "text": [
            "The reward for the action is:  0 \n",
            "\n"
          ]
        },
        {
          "output_type": "display_data",
          "data": {
            "text/plain": [
              "<Figure size 432x288 with 1 Axes>"
            ],
            "image/png": "[encoded data removed]"
          },
          "metadata": {
            "needs_background": "light"
          }
        }
      ]
    },
    {
      "cell_type": "code",
      "source": [
        "action = 0\n",
        "observation, reward, done, _, agent_position,state = env.step1(action)\n",
        "env.render1()\n",
        "print('The reward for the action is: ', reward,'\\n')"
      ],
      "metadata": {
        "colab": {
          "base_uri": "https://localhost:8080/",
          "height": 300
        },
        "id": "UFAERYdFnHeo",
        "outputId": "9c91d84e-eced-4882-cc5c-0c80d8ef3618"
      },
      "execution_count": 51,
      "outputs": [
        {
          "output_type": "stream",
          "name": "stdout",
          "text": [
            "The reward for the action is:  10 \n",
            "\n"
          ]
        },
        {
          "output_type": "display_data",
          "data": {
            "text/plain": [
              "<Figure size 432x288 with 1 Axes>"
            ],
            "image/png": "[encoded data removed]"
          },
          "metadata": {
            "needs_background": "light"
          }
        }
      ]
    },
    {
      "cell_type": "markdown",
      "source": [
        "# **Q-LEARNING FOR DETERMINISTIC ENVIRONMENT**"
      ],
      "metadata": {
        "id": "9EAhAiKDnMqm"
      }
    },
    {
      "cell_type": "code",
      "source": [
        "def next_action(Q, epsilon, n_actions, state, evaluate=False): \n",
        "    if np.random.rand() < epsilon or evaluate:\n",
        "        action = np.argmax(Q[state, :])\n",
        "    else:\n",
        "        action = env.action_space.sample()\n",
        "    return action\n",
        "\n",
        "def QL_deter_algorithm(alpha, gamma, epsilon, episodes, max_steps, n_tests, epsilon_decay, epsilon_min, showVisualization = False, evaluation=False, evaluation_hyper=False):\n",
        "    #Chosing the grid environment\n",
        "    env = GridEnvironment() #deterministic\n",
        "\n",
        "    initial_states, firstActions = env.observation_space.n, env.action_space.n\n",
        "\n",
        "    #Q-table\n",
        "    Q = np.zeros((env.observation_space.n, env.action_space.n))#set to zeroes\n",
        "    episode_total = []\n",
        "    epsilon_total = []\n",
        "    rewards = []\n",
        "    for episode in range(episodes):\n",
        "        episode_per_reward = 0\n",
        "        episode_total.append(episode)\n",
        "        state1 = env.reset().astype('int') \n",
        "        action1 = next_action(Q, epsilon, firstActions, state1)\n",
        "        rand = 0 \n",
        "        epsilon_total.append(epsilon)\n",
        "        done = False #Initially set done value as false\n",
        "\n",
        "        while rand < max_steps: \n",
        "            if showVisualization:\n",
        "                env.render()\n",
        "            observation, reward, done, info, agent_position,state = env.step(action1) \n",
        "            Q[state1, action1] += alpha * ( reward + (gamma * np.argmax(Q[observation.astype('int'),:])) - Q[state1, action1] ) #Update the Q-table\n",
        "            state1 = observation.astype('int') #update our next actiona and state values\n",
        "            rand += 1 \n",
        "            episode_per_reward += reward #Update the reward per episode in the array\n",
        "            if done:\n",
        "                rewards.append(episode_per_reward)\n",
        "                epsilon = max(epsilon * epsilon_decay, epsilon_min)\n",
        "                break\n",
        "\n",
        "    if evaluation: \n",
        "        rewards, episode_total = eval_func(Q, env, n_tests, firstActions)\n",
        "        return rewards, episode_total\n",
        "    if evaluation_hyper: \n",
        "        rewards_hyper, total_episode_hyper = eval_hyper_func(Q, env, n_tests, firstActions)\n",
        "        return rewards_hyper, total_episode_hyper \n",
        "    else:\n",
        "      return rewards, episode_total, epsilon_total \n",
        "\n",
        "\n",
        "def eval_func(Q, env, total_tests, actions):\n",
        "    total_episode = []\n",
        "    rewards = []\n",
        "    count=0\n",
        "    for test in range(total_tests):\n",
        "        total_episode.append(test) \n",
        "        state1 = env.reset().astype('int') \n",
        "        done = False\n",
        "        epsilon = 0\n",
        "        total_reward = 0\n",
        "        count+=1\n",
        "        while True:\n",
        "            action = next_action(Q, epsilon, actions, state1, evaluate=True) \n",
        "            observation, reward, done, info, agent_position, state = env.step(action) #Get the reward from the environment using the current action\n",
        "            state1 = observation.astype('int')\n",
        "            total_reward += reward #append the reward\n",
        "            if done:\n",
        "                rewards.append(total_reward)\n",
        "                break\n",
        "    return rewards, total_episode\n",
        "\n",
        "\n",
        "\n",
        "def eval_hyper_func(Q, env, total_tests, actions): #function to evaluate the algorithm\n",
        "    total_episode_hyper = []\n",
        "    rewards_hyper = []\n",
        "    for test in range(total_tests):\n",
        "        total_episode_hyper.append(test)\n",
        "        state1 = env.reset().astype('int') \n",
        "        done = False\n",
        "        epsilon = 0\n",
        "        total_reward = 0\n",
        "        while True:\n",
        "            action = next_action(Q, epsilon, actions, state1, evaluate=True) \n",
        "            observation, reward, done, info, agent_position, state = env.step(action) #Get the reward from the environment using the current action\n",
        "            state1 = observation.astype('int')\n",
        "            total_reward += reward \n",
        "            if done:\n",
        "                rewards_hyper.append(total_reward)\n",
        "                break\n",
        "    return rewards_hyper, total_episode_hyper\n",
        "\n",
        "\n"
      ],
      "metadata": {
        "id": "QefGzuEcnUd1"
      },
      "execution_count": 78,
      "outputs": []
    },
    {
      "cell_type": "code",
      "source": [
        "episodes = 300\n",
        "max_steps = 420\n",
        "epsilon_decay = 0.99\n",
        "epsilon_min = 0.02\n",
        "total_tests = 20\n",
        "alpha = 0.7\n",
        "gamma = 0.9 \n",
        "epsilon = 1\n",
        "timestep_reward, total_episode, total_epsilon = QL_deter_algorithm(alpha, gamma, epsilon, episodes, max_steps, total_tests, epsilon_decay, epsilon_min, False)\n",
        "\n",
        "# plot the reward for each episode\n",
        "plt.plot(total_episode, timestep_reward,'bo')\n",
        "plt.title('Reward per episode')\n",
        "plt.xlabel(\"Episodes\")\n",
        "plt.ylabel(\"Total Reward\")\n",
        "plt.show()"
      ],
      "metadata": {
        "colab": {
          "base_uri": "https://localhost:8080/",
          "height": 296
        },
        "id": "nZUA_e_5nUwY",
        "outputId": "4f53c712-6ddf-4348-cf97-430e53c40f1f"
      },
      "execution_count": 122,
      "outputs": [
        {
          "output_type": "display_data",
          "data": {
            "text/plain": [
              "<Figure size 432x288 with 1 Axes>"
            ],
            "image/png": "[encoded data removed]"
          },
          "metadata": {
            "needs_background": "light"
          }
        }
      ]
    },
    {
      "cell_type": "code",
      "source": [
        "rewards_hyper, total_episode_hyper = QL_deter_algorithm(alpha, gamma, epsilon, episodes, max_steps, total_tests, epsilon_decay, epsilon_min, False, False, True)\n",
        "# plot the reward for each episode for evaluation\n",
        "plt.plot(total_episode_hyper, rewards_hyper)\n",
        "plt.title('Reward per episode for evaluation ')\n",
        "plt.xlabel(\"Episodes\")\n",
        "plt.ylabel(\"Total Reward\")\n",
        "plt.show()"
      ],
      "metadata": {
        "colab": {
          "base_uri": "https://localhost:8080/",
          "height": 296
        },
        "id": "raEHWYsZrTKQ",
        "outputId": "37355b5c-e198-4ec2-87a4-a50062281d5e"
      },
      "execution_count": 80,
      "outputs": [
        {
          "output_type": "display_data",
          "data": {
            "text/plain": [
              "<Figure size 432x288 with 1 Axes>"
            ],
            "image/png": "[encoded data removed]"
          },
          "metadata": {
            "needs_background": "light"
          }
        }
      ]
    },
    {
      "cell_type": "code",
      "source": [
        "#epsilon decay\n",
        "epsilon = 1\n",
        "episodes = 150\n",
        "max_steps = 420\n",
        "epsilon_decay = 0.9\n",
        "epsilon_min = 0.001\n",
        "total_tests = 20\n",
        "alpha = 0.8\n",
        "gamma = 0.99\n",
        "timestep_reward, total_episode, total_epsilon = QL_deter_algorithm(alpha, gamma, epsilon, episodes, max_steps, total_tests, epsilon_decay, epsilon_min, False)\n",
        "\n",
        "plt.plot(total_episode,total_epsilon)\n",
        "plt.title('EPSILON DECAY')\n",
        "plt.xlabel(\"Episodes\")\n",
        "plt.ylabel(\"Epsilon\")\n",
        "plt.show()"
      ],
      "metadata": {
        "colab": {
          "base_uri": "https://localhost:8080/",
          "height": 296
        },
        "id": "IYwLRgvjnU25",
        "outputId": "1cb25fe5-d0da-4c7c-d1b4-c07b2302a065"
      },
      "execution_count": 81,
      "outputs": [
        {
          "output_type": "display_data",
          "data": {
            "text/plain": [
              "<Figure size 432x288 with 1 Axes>"
            ],
            "image/png": "[encoded data removed]"
          },
          "metadata": {
            "needs_background": "light"
          }
        }
      ]
    },
    {
      "cell_type": "markdown",
      "source": [
        "# **Q-LEARNING FOR STOCHASTIC ENVIRONMENT**"
      ],
      "metadata": {
        "id": "GMpZUpons8go"
      }
    },
    {
      "cell_type": "code",
      "source": [
        "def next_action1(Q, epsilon, n_actions, state, evaluate=False): \n",
        "    if np.random.rand() < epsilon or evaluate:\n",
        "        action = np.argmax(Q[state, :])\n",
        "    else:\n",
        "        action = env.action_space.sample()\n",
        "    return action\n",
        "\n",
        "def QL_stoch_algorithm(alpha, gamma, epsilon, episodes, max_steps, n_tests, epsilon_decay, epsilon_min, showVisualization = False, evaluation=False, evaluation_hyper=False):\n",
        "    #Chosing the grid environment\n",
        "    env = GridEnvironment1() #stochastic\n",
        "\n",
        "    initial_states, firstActions = env.observation_space.n, env.action_space.n\n",
        "\n",
        "    #Q-table\n",
        "    Q = np.zeros((env.observation_space.n, env.action_space.n))#set to zeroes\n",
        "    episode_total = []\n",
        "    epsilon_total = []\n",
        "    rewards = []\n",
        "    for episode in range(episodes):\n",
        "        episode_per_reward = 0\n",
        "        episode_total.append(episode)\n",
        "        state1 = env.reset1().astype('int') \n",
        "        action1 = next_action1(Q, epsilon, firstActions, state1)\n",
        "        rand = 0 \n",
        "        epsilon_total.append(epsilon)\n",
        "        done = False #Initially set done value as false\n",
        "\n",
        "        while rand < max_steps: \n",
        "            if showVisualization: \n",
        "                env.render1()\n",
        "            observation, reward, done, info, agent_position,state = env.step1(action1) #Get the reward value for this episode using the first action\n",
        "            Q[state1, action1] += alpha * ( reward + (gamma * np.argmax(Q[observation.astype('int'),:])) - Q[state1, action1] ) #Update the Q-table using the current state, current action, new state, new action\n",
        "            state1 = observation.astype('int') #update our next actiona and state values\n",
        "            rand += 1 \n",
        "            episode_per_reward += reward #Update the reward per episode in the array\n",
        "            if done:\n",
        "                rewards.append(episode_per_reward)\n",
        "                epsilon = max(epsilon * epsilon_decay, epsilon_min)\n",
        "                break\n",
        "\n",
        "    if evaluation: \n",
        "        rewards, episode_total = eval_func1(Q, env, n_tests, firstActions)\n",
        "        return rewards, episode_total\n",
        "    if evaluation_hyper: \n",
        "        rewards_hyper, total_episode_hyper = eval_hyper_func1(Q, env, n_tests, firstActions)\n",
        "        return rewards_hyper, total_episode_hyper \n",
        "    else:\n",
        "      return rewards, episode_total, epsilon_total \n",
        "\n",
        "\n",
        "def eval_func1(Q, env, total_tests, actions):\n",
        "    total_episode = []\n",
        "    rewards = []\n",
        "    count=0\n",
        "    for test in range(total_tests):\n",
        "        total_episode.append(test) \n",
        "        state1 = env.reset1().astype('int') \n",
        "        #done is false and reward value is 0 initially\n",
        "        done = False\n",
        "        epsilon = 0\n",
        "        total_reward = 0\n",
        "        count+=1\n",
        "        while True:\n",
        "            action = next_action1(Q, epsilon, actions, state1, evaluate=True)\n",
        "            observation, reward, done, info, agent_position, state = env.step1(action)\n",
        "            state1 = observation.astype('int')\n",
        "            total_reward += reward #append the reward\n",
        "            if done:\n",
        "                rewards.append(total_reward)\n",
        "                break\n",
        "    return rewards, total_episode\n",
        "\n",
        "\n",
        "\n",
        "def eval_hyper_func1(Q, env, total_tests, actions): \n",
        "    total_episode_hyper = []\n",
        "    rewards_hyper = []\n",
        "    for test in range(total_tests):\n",
        "        total_episode_hyper.append(test)\n",
        "        state1 = env.reset1().astype('int') \n",
        "        done = False\n",
        "        epsilon = 0\n",
        "        total_reward = 0\n",
        "        while True:\n",
        "            action = next_action1(Q, epsilon, actions, state1, evaluate=True)\n",
        "            observation, reward, done, info, agent_position, state = env.step1(action) #Get the reward from the environment using the current action\n",
        "            state1 = observation.astype('int')\n",
        "            total_reward += reward \n",
        "            if done:\n",
        "                rewards_hyper.append(total_reward)\n",
        "                break\n",
        "    return rewards_hyper, total_episode_hyper\n",
        "\n",
        "\n"
      ],
      "metadata": {
        "id": "dwFBB_ctnU5V"
      },
      "execution_count": 86,
      "outputs": []
    },
    {
      "cell_type": "code",
      "source": [
        "episodes = 400\n",
        "max_steps = 420\n",
        "epsilon_decay = 0.4\n",
        "epsilon_min = 0.02\n",
        "total_tests = 20\n",
        "alpha = 0.9\n",
        "gamma = 0.9 \n",
        "epsilon = 1\n",
        "timestep_reward, total_episode, total_epsilon = QL_stoch_algorithm(alpha, gamma, epsilon, episodes, max_steps, total_tests, epsilon_decay, epsilon_min, False)\n",
        "\n",
        "# plot the reward for each episode\n",
        "plt.plot(total_episode, timestep_reward,'bo')\n",
        "plt.title('Reward per episode')\n",
        "plt.xlabel(\"Episodes\")\n",
        "plt.ylabel(\"Total Reward\")\n",
        "plt.show()"
      ],
      "metadata": {
        "colab": {
          "base_uri": "https://localhost:8080/",
          "height": 296
        },
        "id": "qXcQ35GvnU7r",
        "outputId": "2ec2027c-268d-443f-cfda-630dc984453b"
      },
      "execution_count": 96,
      "outputs": [
        {
          "output_type": "display_data",
          "data": {
            "text/plain": [
              "<Figure size 432x288 with 1 Axes>"
            ],
            "image/png": "[encoded data removed]"
          },
          "metadata": {
            "needs_background": "light"
          }
        }
      ]
    },
    {
      "cell_type": "code",
      "source": [
        "rewards_hyper, total_episode_hyper = QL_stoch_algorithm(alpha, gamma, epsilon, episodes, max_steps, total_tests, epsilon_decay, epsilon_min, False, False, True)\n",
        "# plot the reward for each episode for evaluation\n",
        "plt.plot(total_episode_hyper, rewards_hyper)\n",
        "plt.title('Reward per episode for evaluation')\n",
        "plt.xlabel(\"Episodes\")\n",
        "plt.ylabel(\"Total Reward\")\n",
        "plt.show()"
      ],
      "metadata": {
        "colab": {
          "base_uri": "https://localhost:8080/",
          "height": 296
        },
        "id": "3Zy_8HEiv46v",
        "outputId": "41ecadd5-dc17-43a4-cf74-0c96ad6fda49"
      },
      "execution_count": 90,
      "outputs": [
        {
          "output_type": "display_data",
          "data": {
            "text/plain": [
              "<Figure size 432x288 with 1 Axes>"
            ],
            "image/png": "[encoded data removed]"
          },
          "metadata": {
            "needs_background": "light"
          }
        }
      ]
    },
    {
      "cell_type": "code",
      "source": [
        "#epsilon decay\n",
        "epsilon = 1\n",
        "episodes = 150\n",
        "max_steps = 420\n",
        "epsilon_decay = 0.9\n",
        "epsilon_min = 0.001\n",
        "total_tests = 20\n",
        "alpha = 0.8\n",
        "gamma = 0.99\n",
        "timestep_reward, total_episode, total_epsilon = QL_stoch_algorithm(alpha, gamma, epsilon, episodes, max_steps, total_tests, epsilon_decay, epsilon_min, False)\n",
        "\n",
        "plt.plot(total_episode,total_epsilon)\n",
        "plt.title('EPSILON DECAY')\n",
        "plt.xlabel(\"Episodes\")\n",
        "plt.ylabel(\"Epsilon\")\n",
        "plt.show()"
      ],
      "metadata": {
        "colab": {
          "base_uri": "https://localhost:8080/",
          "height": 296
        },
        "id": "jATM_rdZnU-I",
        "outputId": "94dc8f89-6e97-4a8e-e23a-70fbc1cc907d"
      },
      "execution_count": 89,
      "outputs": [
        {
          "output_type": "display_data",
          "data": {
            "text/plain": [
              "<Figure size 432x288 with 1 Axes>"
            ],
            "image/png": "[encoded data removed]"
          },
          "metadata": {
            "needs_background": "light"
          }
        }
      ]
    },
    {
      "cell_type": "markdown",
      "source": [
        "# **SARSA ALGORITHM FOR DETERMINISTIC ENVIRONMENT**"
      ],
      "metadata": {
        "id": "AxLsL8BQwn0z"
      }
    },
    {
      "cell_type": "code",
      "source": [
        "def next_action(Q, epsilon, n_actions, state, evaluate=False): \n",
        "    if np.random.rand() < epsilon or evaluate:\n",
        "        action = np.argmax(Q[state, :])\n",
        "    else:\n",
        "        action = env.action_space.sample()\n",
        "    return action\n",
        "\n",
        "def sarsa_deter_algorithm(alpha, gamma, epsilon, episodes, max_steps, n_tests, epsilon_decay, epsilon_min, showVisualization = False, evaluation=False, evaluation_hyper=False):\n",
        "    #Chosing the grid environment\n",
        "    env = GridEnvironment() #deterministic\n",
        "\n",
        "    initial_states, firstActions = env.observation_space.n, env.action_space.n\n",
        "\n",
        "    #Q-table\n",
        "    Q = np.zeros((env.observation_space.n, env.action_space.n))#set to zeroes\n",
        "    episode_total = []\n",
        "    epsilon_total = []\n",
        "    rewards = []\n",
        "    for episode in range(episodes):\n",
        "        episode_per_reward = 0\n",
        "        episode_total.append(episode)\n",
        "        state1 = env.reset().astype('int') \n",
        "        action1 = next_action(Q, epsilon, firstActions, state1)\n",
        "        rand = 0 \n",
        "        epsilon_total.append(epsilon)\n",
        "        done = False #Initially set done value as false\n",
        "\n",
        "        while rand < max_steps: \n",
        "            if showVisualization: \n",
        "                env.render()\n",
        "            observation, reward, done, info, agent_position,state = env.step(action1) \n",
        "            action2 = next_action(Q, epsilon, firstActions, observation.astype('int'))\n",
        "            Q[state1, action1] += alpha * ( reward + (gamma * Q[observation.astype('int'),action2]) - Q[state1, action1] ) \n",
        "            state1, action1 = observation.astype('int'), action2 #update our next actiona and state values\n",
        "            rand += 1 \n",
        "            episode_per_reward += reward #Update the reward per episode in the array\n",
        "            if done:\n",
        "                rewards.append(episode_per_reward) #append the reqard value in the array after each episode\n",
        "                epsilon = max(epsilon * epsilon_decay, epsilon_min)\n",
        "                break\n",
        "\n",
        "    if evaluation: \n",
        "        rewards, episode_total = eval_func(Q, env, n_tests, firstActions)\n",
        "        return rewards, episode_total\n",
        "    if evaluation_hyper: \n",
        "        rewards_hyper, total_episode_hyper = eval_hyper_func(Q, env, n_tests, firstActions)\n",
        "        return rewards_hyper, total_episode_hyper \n",
        "    else:\n",
        "      return rewards, episode_total, epsilon_total \n",
        "\n",
        "#evaluation function\n",
        "def eval_func(Q, env, total_tests, actions):\n",
        "    total_episode = []\n",
        "    rewards = []\n",
        "    count=0\n",
        "    for test in range(total_tests):\n",
        "        total_episode.append(test) \n",
        "        state1 = env.reset().astype('int') \n",
        "        #done is false and reward value is 0 initially\n",
        "        done = False\n",
        "        epsilon = 0\n",
        "        total_reward = 0\n",
        "        count+=1\n",
        "        while True:\n",
        "            action = next_action(Q, epsilon, actions, state1, evaluate=True) \n",
        "            observation, reward, done, info, agent_position, state = env.step(action) \n",
        "            state1 = observation.astype('int')\n",
        "            total_reward += reward #append the reward\n",
        "            if done:\n",
        "                rewards.append(total_reward)\n",
        "                break\n",
        "    return rewards, total_episode\n",
        "\n",
        "\n",
        "\n",
        "def eval_hyper_func(Q, env, total_tests, actions): #function to evaluate the algorithm\n",
        "    total_episode_hyper = []\n",
        "    rewards_hyper = []\n",
        "    for test in range(total_tests):\n",
        "        total_episode_hyper.append(test)\n",
        "        state1 = env.reset().astype('int') \n",
        "        done = False\n",
        "        epsilon = 0\n",
        "        total_reward = 0\n",
        "        while True:\n",
        "            action = next_action(Q, epsilon, actions, state1, evaluate=True) \n",
        "            observation, reward, done, info, agent_position, state = env.step(action) #Get the reward from the environment using the current action\n",
        "            state1 = observation.astype('int')\n",
        "            total_reward += reward \n",
        "            if done:\n",
        "                rewards_hyper.append(total_reward)\n",
        "                break\n",
        "    return rewards_hyper, total_episode_hyper\n",
        "\n",
        "\n"
      ],
      "metadata": {
        "id": "_mYUE6mKv1wQ"
      },
      "execution_count": 123,
      "outputs": []
    },
    {
      "cell_type": "code",
      "source": [
        "episodes = 1000\n",
        "max_steps = 420\n",
        "epsilon_decay = 0.9\n",
        "epsilon_min = 0.2\n",
        "total_tests = 20\n",
        "alpha = 0.4\n",
        "gamma = 0.4\n",
        "epsilon = 1\n",
        "timestep_reward, total_episode, total_epsilon = sarsa_deter_algorithm(alpha, gamma, epsilon, episodes, max_steps, total_tests, epsilon_decay, epsilon_min, False)\n",
        "\n",
        "# plot the reward for each episode\n",
        "plt.plot(total_episode, timestep_reward,'bo')\n",
        "plt.title('Reward per episode')\n",
        "plt.xlabel(\"Episodes\")\n",
        "plt.ylabel(\"Total Reward\")\n",
        "plt.show()"
      ],
      "metadata": {
        "colab": {
          "base_uri": "https://localhost:8080/",
          "height": 296
        },
        "id": "Ot_OkJJzxSNe",
        "outputId": "d818af80-0310-46f4-f13d-ce1d290be74a"
      },
      "execution_count": 112,
      "outputs": [
        {
          "output_type": "display_data",
          "data": {
            "text/plain": [
              "<Figure size 432x288 with 1 Axes>"
            ],
            "image/png": "[encoded data removed]"
          },
          "metadata": {
            "needs_background": "light"
          }
        }
      ]
    },
    {
      "cell_type": "code",
      "source": [
        "rewards_hyper, total_episode_hyper = sarsa_deter_algorithm(alpha, gamma, epsilon, episodes, max_steps, total_tests, epsilon_decay, epsilon_min, False, False, True)\n",
        "# plot the reward for each episode for evaluation\n",
        "plt.plot(total_episode_hyper, rewards_hyper)\n",
        "plt.title('Reward per episode for evaluation')\n",
        "plt.xlabel(\"Episodes\")\n",
        "plt.ylabel(\"Total Reward\")\n",
        "plt.show()"
      ],
      "metadata": {
        "colab": {
          "base_uri": "https://localhost:8080/",
          "height": 296
        },
        "id": "huG5lNoaxqq5",
        "outputId": "61e59aa3-571c-4b6c-e5ad-fc87be9dbdb0"
      },
      "execution_count": 111,
      "outputs": [
        {
          "output_type": "display_data",
          "data": {
            "text/plain": [
              "<Figure size 432x288 with 1 Axes>"
            ],
            "image/png": "[encoded data removed]"
          },
          "metadata": {
            "needs_background": "light"
          }
        }
      ]
    },
    {
      "cell_type": "code",
      "source": [
        "#epsilon decay\n",
        "epsilon = 1\n",
        "episodes = 150\n",
        "max_steps = 420\n",
        "epsilon_decay = 0.9\n",
        "epsilon_min = 0.001\n",
        "total_tests = 20\n",
        "alpha = 0.8\n",
        "gamma = 0.99\n",
        "timestep_reward, total_episode, total_epsilon = sarsa_deter_algorithm(alpha, gamma, epsilon, episodes, max_steps, total_tests, epsilon_decay, epsilon_min, False)\n",
        "\n",
        "plt.plot(total_episode,total_epsilon)\n",
        "plt.title('EPSILON DECAY')\n",
        "plt.xlabel(\"Episodes\")\n",
        "plt.ylabel(\"Epsilon\")\n",
        "plt.show()"
      ],
      "metadata": {
        "colab": {
          "base_uri": "https://localhost:8080/",
          "height": 296
        },
        "id": "7x5Mca1ix3wD",
        "outputId": "7a2589f5-257d-4013-fe24-0c23d6ef2836"
      },
      "execution_count": 113,
      "outputs": [
        {
          "output_type": "display_data",
          "data": {
            "text/plain": [
              "<Figure size 432x288 with 1 Axes>"
            ],
            "image/png": "[encoded data removed]"
          },
          "metadata": {
            "needs_background": "light"
          }
        }
      ]
    },
    {
      "cell_type": "markdown",
      "source": [
        "# **SARSA ALGORITHM FOR STOCHASTIC ENVIRONMENT**"
      ],
      "metadata": {
        "id": "64BDV4GSzG6p"
      }
    },
    {
      "cell_type": "code",
      "source": [
        "def next_action1(Q, epsilon, n_actions, state, evaluate=False): \n",
        "    if np.random.rand() < epsilon or evaluate:\n",
        "        action = np.argmax(Q[state, :])\n",
        "    else:\n",
        "        action = env.action_space.sample()\n",
        "    return action\n",
        "\n",
        "def sarsa_stoch_algorithm(alpha, gamma, epsilon, episodes, max_steps, n_tests, epsilon_decay, epsilon_min, showVisualization = False, evaluation=False, evaluation_hyper=False):\n",
        "    #Chosing the grid environment\n",
        "    env = GridEnvironment1() #deterministic\n",
        "\n",
        "    initial_states, firstActions = env.observation_space.n, env.action_space.n\n",
        "\n",
        "    #Q-table\n",
        "    Q = np.zeros((env.observation_space.n, env.action_space.n))#set to zeroes\n",
        "    episode_total = []\n",
        "    epsilon_total = []\n",
        "    rewards = []\n",
        "    for episode in range(episodes):\n",
        "        episode_per_reward = 0\n",
        "        episode_total.append(episode)\n",
        "        state1 = env.reset1().astype('int') \n",
        "        action1 = next_action1(Q, epsilon, firstActions, state1)\n",
        "        rand = 0 \n",
        "        epsilon_total.append(epsilon)\n",
        "        done = False #Initially set done value as false\n",
        "\n",
        "        while rand < max_steps: \n",
        "            if showVisualization: #showVisualization is set to show the visual representation of the grid\n",
        "                env.render1()\n",
        "            observation, reward, done, info, agent_position,state = env.step1(action1)\n",
        "            action2 = next_action(Q, epsilon, firstActions, observation.astype('int'))\n",
        "            Q[state1, action1] += alpha * ( reward + (gamma * Q[observation.astype('int'),action2]) - Q[state1, action1] ) #Update the Q-table using the current state, current action, new state, new action\n",
        "            state1, action1 = observation.astype('int'), action2\n",
        "            rand += 1 \n",
        "            episode_per_reward += reward #Update the reward per episode in the array\n",
        "            if done:\n",
        "                rewards.append(episode_per_reward) #append the reqard value in the array after each episode\n",
        "                # calculate the apsilon value for each episode\n",
        "                epsilon = max(epsilon * epsilon_decay, epsilon_min)\n",
        "                break\n",
        "\n",
        "    if evaluation: \n",
        "        rewards, episode_total = eval_func1(Q, env, n_tests, firstActions)\n",
        "        return rewards, episode_total\n",
        "    if evaluation_hyper: \n",
        "        rewards_hyper, total_episode_hyper = eval_hyper_func1(Q, env, n_tests, firstActions)\n",
        "        return rewards_hyper, total_episode_hyper \n",
        "    else:\n",
        "      return rewards, episode_total, epsilon_total \n",
        "\n",
        "\n",
        "def eval_func1(Q, env, total_tests, actions):\n",
        "    total_episode = []\n",
        "    rewards = []\n",
        "    count=0\n",
        "    for test in range(total_tests):\n",
        "        total_episode.append(test) \n",
        "        state1 = env.reset1().astype('int') \n",
        "        #done is false and reward value is 0 initially\n",
        "        done = False\n",
        "        epsilon = 0\n",
        "        total_reward = 0\n",
        "        count+=1\n",
        "        while True:\n",
        "            action = next_action1(Q, epsilon, actions, state1, evaluate=True) \n",
        "            observation, reward, done, info, agent_position, state = env.step1(action) \n",
        "            state1 = observation.astype('int')\n",
        "            total_reward += reward #append the reward\n",
        "            if done:\n",
        "                rewards.append(total_reward)\n",
        "                break\n",
        "    return rewards, total_episode\n",
        "\n",
        "\n",
        "\n",
        "def eval_hyper_func1(Q, env, total_tests, actions): #function to evaluate the algorithm\n",
        "    total_episode_hyper = []\n",
        "    rewards_hyper = []\n",
        "    for test in range(total_tests):\n",
        "        total_episode_hyper.append(test)\n",
        "        state1 = env.reset1().astype('int') \n",
        "        done = False\n",
        "        epsilon = 0\n",
        "        total_reward = 0\n",
        "        while True:\n",
        "            action = next_action1(Q, epsilon, actions, state1, evaluate=True) \n",
        "            observation, reward, done, info, agent_position, state = env.step1(action) #Get the reward from the environment using the current action\n",
        "            state1 = observation.astype('int')\n",
        "            total_reward += reward \n",
        "            if done:\n",
        "                rewards_hyper.append(total_reward)\n",
        "                break\n",
        "    return rewards_hyper, total_episode_hyper\n",
        "\n",
        "\n"
      ],
      "metadata": {
        "id": "jtTgIVdlx38g"
      },
      "execution_count": 115,
      "outputs": []
    },
    {
      "cell_type": "code",
      "source": [
        "episodes = 1000\n",
        "max_steps = 420\n",
        "epsilon_decay = 0.9\n",
        "epsilon_min = 0.2\n",
        "total_tests = 20\n",
        "alpha = 0.4\n",
        "gamma = 0.4\n",
        "epsilon = 1\n",
        "timestep_reward, total_episode, total_epsilon = sarsa_stoch_algorithm(alpha, gamma, epsilon, episodes, max_steps, total_tests, epsilon_decay, epsilon_min, False)\n",
        "\n",
        "# plot the reward for each episode\n",
        "plt.plot(total_episode, timestep_reward)\n",
        "plt.title('Reward per episode')\n",
        "plt.xlabel(\"Episodes\")\n",
        "plt.ylabel(\"Total Reward\")\n",
        "plt.show()"
      ],
      "metadata": {
        "colab": {
          "base_uri": "https://localhost:8080/",
          "height": 296
        },
        "id": "Z22_IAwT0pbz",
        "outputId": "20343fe0-ebf1-41af-f6ff-a1dece7d87c0"
      },
      "execution_count": 117,
      "outputs": [
        {
          "output_type": "display_data",
          "data": {
            "text/plain": [
              "<Figure size 432x288 with 1 Axes>"
            ],
            "image/png": "[encoded data removed]"
          },
          "metadata": {
            "needs_background": "light"
          }
        }
      ]
    },
    {
      "cell_type": "code",
      "source": [
        "rewards_hyper, total_episode_hyper = sarsa_stoch_algorithm(alpha, gamma, epsilon, episodes, max_steps, total_tests, epsilon_decay, epsilon_min, False, False, True)\n",
        "# plot the reward for each episode for evaluation\n",
        "plt.plot(total_episode_hyper, rewards_hyper)\n",
        "plt.title('Reward per episode for evaluation')\n",
        "plt.xlabel(\"Episodes\")\n",
        "plt.ylabel(\"Total Reward\")\n",
        "plt.show()"
      ],
      "metadata": {
        "colab": {
          "base_uri": "https://localhost:8080/",
          "height": 296
        },
        "id": "q2t5trd10zmR",
        "outputId": "e1a2f6b1-309f-4d45-e1c9-70fa0d6906c6"
      },
      "execution_count": 119,
      "outputs": [
        {
          "output_type": "display_data",
          "data": {
            "text/plain": [
              "<Figure size 432x288 with 1 Axes>"
            ],
            "image/png": "[encoded data removed]"
          },
          "metadata": {
            "needs_background": "light"
          }
        }
      ]
    },
    {
      "cell_type": "code",
      "source": [
        "#epsilon decay\n",
        "epsilon = 1\n",
        "episodes = 150\n",
        "max_steps = 420\n",
        "epsilon_decay = 0.9\n",
        "epsilon_min = 0.001\n",
        "total_tests = 20\n",
        "alpha = 0.8\n",
        "gamma = 0.99\n",
        "timestep_reward, total_episode, total_epsilon = sarsa_stoch_algorithm(alpha, gamma, epsilon, episodes, max_steps, total_tests, epsilon_decay, epsilon_min, False)\n",
        "\n",
        "plt.plot(total_episode,total_epsilon)\n",
        "plt.title('EPSILON DECAY')\n",
        "plt.xlabel(\"Episodes\")\n",
        "plt.ylabel(\"Epsilon\")\n",
        "plt.show()"
      ],
      "metadata": {
        "colab": {
          "base_uri": "https://localhost:8080/",
          "height": 296
        },
        "id": "oCNB2ImZ07Ct",
        "outputId": "6baa8b07-1f8a-4211-a7d2-b36d66e20206"
      },
      "execution_count": 121,
      "outputs": [
        {
          "output_type": "display_data",
          "data": {
            "text/plain": [
              "<Figure size 432x288 with 1 Axes>"
            ],
            "image/png": "[encoded data removed]"
          },
          "metadata": {
            "needs_background": "light"
          }
        }
      ]
    },
    {
      "cell_type": "markdown",
      "source": [
        "# **HYPERPARAMETER TUNING FOR SARSA DETERMINISTIC**"
      ],
      "metadata": {
        "id": "EIWjWafzHKzE"
      }
    },
    {
      "cell_type": "code",
      "source": [
        "#epsilon decay 0.6\n",
        "episodes = 1000\n",
        "max_steps = 420\n",
        "epsilon_decay = 0.6\n",
        "epsilon_min = 0.2\n",
        "total_tests = 20\n",
        "alpha = 0.4\n",
        "gamma = 0.4\n",
        "epsilon = 1\n",
        "timestep_reward, total_episode, total_epsilon = sarsa_deter_algorithm(alpha, gamma, epsilon, episodes, max_steps, total_tests, epsilon_decay, epsilon_min, False)\n",
        "\n",
        "# plot the reward for each episode\n",
        "plt.plot(total_episode, timestep_reward,'bo')\n",
        "plt.title('Reward per episode')\n",
        "plt.xlabel(\"Episodes\")\n",
        "plt.ylabel(\"Total Reward\")\n",
        "plt.show()"
      ],
      "metadata": {
        "colab": {
          "base_uri": "https://localhost:8080/",
          "height": 296
        },
        "id": "5p7InWROHcoW",
        "outputId": "d20cd7ee-218a-4e5c-9f06-d12a1cf40b4c"
      },
      "execution_count": 137,
      "outputs": [
        {
          "output_type": "display_data",
          "data": {
            "text/plain": [
              "<Figure size 432x288 with 1 Axes>"
            ],
            "image/png": "[encoded data removed]"
          },
          "metadata": {
            "needs_background": "light"
          }
        }
      ]
    },
    {
      "cell_type": "code",
      "source": [
        "rewards_hyper, total_episode_hyper = sarsa_deter_algorithm(alpha, gamma, epsilon, episodes, max_steps, total_tests, epsilon_decay, epsilon_min, False, False, True)\n",
        "# plot the reward for each episode for evaluation\n",
        "plt.plot(total_episode_hyper, rewards_hyper)\n",
        "plt.title('Reward per episode for evaluation')\n",
        "plt.xlabel(\"Episodes\")\n",
        "plt.ylabel(\"Total Reward\")\n",
        "plt.show()"
      ],
      "metadata": {
        "colab": {
          "base_uri": "https://localhost:8080/",
          "height": 296
        },
        "id": "gQB5-syuHtc3",
        "outputId": "a2bbfe7c-db25-49f5-f26d-4a8d51a455cf"
      },
      "execution_count": 138,
      "outputs": [
        {
          "output_type": "display_data",
          "data": {
            "text/plain": [
              "<Figure size 432x288 with 1 Axes>"
            ],
            "image/png": "[encoded data removed]"
          },
          "metadata": {
            "needs_background": "light"
          }
        }
      ]
    },
    {
      "cell_type": "code",
      "source": [
        "#epsilon decay 0.4\n",
        "episodes = 1000\n",
        "max_steps = 420\n",
        "epsilon_decay = 0.4\n",
        "epsilon_min = 0.2\n",
        "total_tests = 20\n",
        "alpha = 0.4\n",
        "gamma = 0.4\n",
        "epsilon = 1\n",
        "timestep_reward, total_episode, total_epsilon = sarsa_deter_algorithm(alpha, gamma, epsilon, episodes, max_steps, total_tests, epsilon_decay, epsilon_min, False)\n",
        "\n",
        "# plot the reward for each episode\n",
        "plt.plot(total_episode, timestep_reward,'bo')\n",
        "plt.title('Reward per episode')\n",
        "plt.xlabel(\"Episodes\")\n",
        "plt.ylabel(\"Total Reward\")\n",
        "plt.show()"
      ],
      "metadata": {
        "colab": {
          "base_uri": "https://localhost:8080/",
          "height": 296
        },
        "id": "6dHTIawmHyrR",
        "outputId": "4741e3ca-63bc-4e8b-f531-44a307f83c2a"
      },
      "execution_count": 139,
      "outputs": [
        {
          "output_type": "display_data",
          "data": {
            "text/plain": [
              "<Figure size 432x288 with 1 Axes>"
            ],
            "image/png": "[encoded data removed]"
          },
          "metadata": {
            "needs_background": "light"
          }
        }
      ]
    },
    {
      "cell_type": "code",
      "source": [
        "rewards_hyper, total_episode_hyper = sarsa_deter_algorithm(alpha, gamma, epsilon, episodes, max_steps, total_tests, epsilon_decay, epsilon_min, False, False, True)\n",
        "# plot the reward for each episode for evaluation\n",
        "plt.plot(total_episode_hyper, rewards_hyper)\n",
        "plt.title('Reward per episode for evaluation')\n",
        "plt.xlabel(\"Episodes\")\n",
        "plt.ylabel(\"Total Reward\")\n",
        "plt.show()"
      ],
      "metadata": {
        "colab": {
          "base_uri": "https://localhost:8080/",
          "height": 296
        },
        "id": "dPKvXRlEH3Fi",
        "outputId": "b42aec9a-9cf9-4011-963c-27a197ae8731"
      },
      "execution_count": 140,
      "outputs": [
        {
          "output_type": "display_data",
          "data": {
            "text/plain": [
              "<Figure size 432x288 with 1 Axes>"
            ],
            "image/png": "[encoded data removed]"
          },
          "metadata": {
            "needs_background": "light"
          }
        }
      ]
    },
    {
      "cell_type": "code",
      "source": [
        "#epsilon decay 0.1\n",
        "episodes = 1000\n",
        "max_steps = 420\n",
        "epsilon_decay = 0.1\n",
        "epsilon_min = 0.2\n",
        "total_tests = 20\n",
        "alpha = 0.4\n",
        "gamma = 0.4\n",
        "epsilon = 1\n",
        "timestep_reward, total_episode, total_epsilon = sarsa_deter_algorithm(alpha, gamma, epsilon, episodes, max_steps, total_tests, epsilon_decay, epsilon_min, False)\n",
        "\n",
        "# plot the reward for each episode\n",
        "plt.plot(total_episode, timestep_reward,'bo')\n",
        "plt.title('Reward per episode')\n",
        "plt.xlabel(\"Episodes\")\n",
        "plt.ylabel(\"Total Reward\")\n",
        "plt.show()"
      ],
      "metadata": {
        "colab": {
          "base_uri": "https://localhost:8080/",
          "height": 296
        },
        "id": "kcAXcKyrH6jc",
        "outputId": "13f046ea-f9e2-434a-ebb3-a21ca99dbe0a"
      },
      "execution_count": 141,
      "outputs": [
        {
          "output_type": "display_data",
          "data": {
            "text/plain": [
              "<Figure size 432x288 with 1 Axes>"
            ],
            "image/png": "[encoded data removed]"
          },
          "metadata": {
            "needs_background": "light"
          }
        }
      ]
    },
    {
      "cell_type": "code",
      "source": [
        "rewards_hyper, total_episode_hyper = sarsa_deter_algorithm(alpha, gamma, epsilon, episodes, max_steps, total_tests, epsilon_decay, epsilon_min, False, False, True)\n",
        "# plot the reward for each episode for evaluation\n",
        "plt.plot(total_episode_hyper, rewards_hyper)\n",
        "plt.title('Reward per episode for evaluation')\n",
        "plt.xlabel(\"Episodes\")\n",
        "plt.ylabel(\"Total Reward\")\n",
        "plt.show()"
      ],
      "metadata": {
        "colab": {
          "base_uri": "https://localhost:8080/",
          "height": 296
        },
        "id": "C_Bbmw0ZH_JQ",
        "outputId": "298bc70c-7170-4527-eac0-3bcf9eedd317"
      },
      "execution_count": 142,
      "outputs": [
        {
          "output_type": "display_data",
          "data": {
            "text/plain": [
              "<Figure size 432x288 with 1 Axes>"
            ],
            "image/png": "[encoded data removed]"
          },
          "metadata": {
            "needs_background": "light"
          }
        }
      ]
    },
    {
      "cell_type": "code",
      "source": [
        "#discount factor 0.3\n",
        "episodes = 1000\n",
        "max_steps = 420\n",
        "epsilon_decay = 0.4\n",
        "epsilon_min = 0.2\n",
        "total_tests = 20\n",
        "alpha = 0.4\n",
        "gamma = 0.3\n",
        "epsilon = 1\n",
        "timestep_reward, total_episode, total_epsilon = sarsa_deter_algorithm(alpha, gamma, epsilon, episodes, max_steps, total_tests, epsilon_decay, epsilon_min, False)\n",
        "\n",
        "# plot the reward for each episode\n",
        "plt.plot(total_episode, timestep_reward,'bo')\n",
        "plt.title('Reward per episode')\n",
        "plt.xlabel(\"Episodes\")\n",
        "plt.ylabel(\"Total Reward\")\n",
        "plt.show()"
      ],
      "metadata": {
        "colab": {
          "base_uri": "https://localhost:8080/",
          "height": 296
        },
        "id": "Lw6Ug72cILal",
        "outputId": "746ada64-bd8c-4cfa-cdb2-39c5bde5aae0"
      },
      "execution_count": 143,
      "outputs": [
        {
          "output_type": "display_data",
          "data": {
            "text/plain": [
              "<Figure size 432x288 with 1 Axes>"
            ],
            "image/png": "[encoded data removed]"
          },
          "metadata": {
            "needs_background": "light"
          }
        }
      ]
    },
    {
      "cell_type": "code",
      "source": [
        "rewards_hyper, total_episode_hyper = sarsa_deter_algorithm(alpha, gamma, epsilon, episodes, max_steps, total_tests, epsilon_decay, epsilon_min, False, False, True)\n",
        "# plot the reward for each episode for evaluation\n",
        "plt.plot(total_episode_hyper, rewards_hyper)\n",
        "plt.title('Reward per episode for evaluation')\n",
        "plt.xlabel(\"Episodes\")\n",
        "plt.ylabel(\"Total Reward\")\n",
        "plt.show()"
      ],
      "metadata": {
        "colab": {
          "base_uri": "https://localhost:8080/",
          "height": 296
        },
        "id": "1x-oNRixIWCT",
        "outputId": "02908083-9ee7-49b7-a6e6-557d4e20e4a7"
      },
      "execution_count": 144,
      "outputs": [
        {
          "output_type": "display_data",
          "data": {
            "text/plain": [
              "<Figure size 432x288 with 1 Axes>"
            ],
            "image/png": "[encoded data removed]"
          },
          "metadata": {
            "needs_background": "light"
          }
        }
      ]
    },
    {
      "cell_type": "code",
      "source": [
        "#discount factor 0.55\n",
        "episodes = 1000\n",
        "max_steps = 420\n",
        "epsilon_decay = 0.4\n",
        "epsilon_min = 0.2\n",
        "total_tests = 20\n",
        "alpha = 0.4\n",
        "gamma = 0.55\n",
        "epsilon = 1\n",
        "timestep_reward, total_episode, total_epsilon = sarsa_deter_algorithm(alpha, gamma, epsilon, episodes, max_steps, total_tests, epsilon_decay, epsilon_min, False)\n",
        "\n",
        "# plot the reward for each episode\n",
        "plt.plot(total_episode, timestep_reward,'bo')\n",
        "plt.title('Reward per episode')\n",
        "plt.xlabel(\"Episodes\")\n",
        "plt.ylabel(\"Total Reward\")\n",
        "plt.show()"
      ],
      "metadata": {
        "colab": {
          "base_uri": "https://localhost:8080/",
          "height": 296
        },
        "id": "5TGZtBHkIYq5",
        "outputId": "5aeb4054-eded-4750-b055-9017fe412931"
      },
      "execution_count": 145,
      "outputs": [
        {
          "output_type": "display_data",
          "data": {
            "text/plain": [
              "<Figure size 432x288 with 1 Axes>"
            ],
            "image/png": "[encoded data removed]"
          },
          "metadata": {
            "needs_background": "light"
          }
        }
      ]
    },
    {
      "cell_type": "code",
      "source": [
        "rewards_hyper, total_episode_hyper = sarsa_deter_algorithm(alpha, gamma, epsilon, episodes, max_steps, total_tests, epsilon_decay, epsilon_min, False, False, True)\n",
        "# plot the reward for each episode for evaluation\n",
        "plt.plot(total_episode_hyper, rewards_hyper)\n",
        "plt.title('Reward per episode for evaluation')\n",
        "plt.xlabel(\"Episodes\")\n",
        "plt.ylabel(\"Total Reward\")\n",
        "plt.show()"
      ],
      "metadata": {
        "colab": {
          "base_uri": "https://localhost:8080/",
          "height": 296
        },
        "id": "DQxKI0GJIdd8",
        "outputId": "5c55ebe5-9d26-44e9-fb64-8388f9acbd8f"
      },
      "execution_count": 146,
      "outputs": [
        {
          "output_type": "display_data",
          "data": {
            "text/plain": [
              "<Figure size 432x288 with 1 Axes>"
            ],
            "image/png": "[encoded data removed]"
          },
          "metadata": {
            "needs_background": "light"
          }
        }
      ]
    },
    {
      "cell_type": "code",
      "source": [
        "#discount factor 0.65\n",
        "episodes = 1000\n",
        "max_steps = 420\n",
        "epsilon_decay = 0.4\n",
        "epsilon_min = 0.2\n",
        "total_tests = 20\n",
        "alpha = 0.4\n",
        "gamma = 0.55\n",
        "epsilon = 1\n",
        "timestep_reward, total_episode, total_epsilon = sarsa_deter_algorithm(alpha, gamma, epsilon, episodes, max_steps, total_tests, epsilon_decay, epsilon_min, False)\n",
        "\n",
        "# plot the reward for each episode\n",
        "plt.plot(total_episode, timestep_reward,'bo')\n",
        "plt.title('Reward per episode')\n",
        "plt.xlabel(\"Episodes\")\n",
        "plt.ylabel(\"Total Reward\")\n",
        "plt.show()"
      ],
      "metadata": {
        "colab": {
          "base_uri": "https://localhost:8080/",
          "height": 296
        },
        "id": "l1umj39fIhMs",
        "outputId": "849b84a0-5b0a-4edf-9e74-98e8fa590368"
      },
      "execution_count": 147,
      "outputs": [
        {
          "output_type": "display_data",
          "data": {
            "text/plain": [
              "<Figure size 432x288 with 1 Axes>"
            ],
            "image/png": "[encoded data removed]"
          },
          "metadata": {
            "needs_background": "light"
          }
        }
      ]
    },
    {
      "cell_type": "code",
      "source": [
        "rewards_hyper, total_episode_hyper = sarsa_deter_algorithm(alpha, gamma, epsilon, episodes, max_steps, total_tests, epsilon_decay, epsilon_min, False, False, True)\n",
        "# plot the reward for each episode for evaluation\n",
        "plt.plot(total_episode_hyper, rewards_hyper)\n",
        "plt.title('Reward per episode for evaluation')\n",
        "plt.xlabel(\"Episodes\")\n",
        "plt.ylabel(\"Total Reward\")\n",
        "plt.show()"
      ],
      "metadata": {
        "colab": {
          "base_uri": "https://localhost:8080/",
          "height": 296
        },
        "id": "29LKTE1HIgN7",
        "outputId": "bb19e70d-ceda-4f63-b950-5a8a1ee27258"
      },
      "execution_count": 148,
      "outputs": [
        {
          "output_type": "display_data",
          "data": {
            "text/plain": [
              "<Figure size 432x288 with 1 Axes>"
            ],
            "image/png": "[encoded data removed]"
          },
          "metadata": {
            "needs_background": "light"
          }
        }
      ]
    }
  ]
}
